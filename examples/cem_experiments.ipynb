{
 "cells": [
  {
   "cell_type": "code",
   "execution_count": 1,
   "metadata": {},
   "outputs": [
    {
     "name": "stderr",
     "output_type": "stream",
     "text": [
      "/home/manni/miniconda3/envs/physioex/lib/python3.10/site-packages/braindecode/preprocessing/preprocess.py:55: UserWarning: Preprocessing choices with lambda functions cannot be saved.\n",
      "  warn('Preprocessing choices with lambda functions cannot be saved.')\n"
     ]
    },
    {
     "name": "stdout",
     "output_type": "stream",
     "text": [
      "Current working directory: /home/manni/physioex\n",
      "/home/manni\n"
     ]
    },
    {
     "name": "stderr",
     "output_type": "stream",
     "text": [
      "/home/manni/miniconda3/envs/physioex/lib/python3.10/site-packages/IPython/core/magics/osm.py:417: UserWarning: This is now an optional IPython functionality, setting dhist requires you to install the `pickleshare` library.\n",
      "  self.shell.db['dhist'] = compress_dhist(dhist)[-100:]\n"
     ]
    }
   ],
   "source": [
    "from utils import set_root, PhysioLoader\n",
    "import math\n",
    "\n",
    "set_root()\n",
    "%cd .."
   ]
  },
  {
   "cell_type": "code",
   "execution_count": 12,
   "metadata": {},
   "outputs": [],
   "source": [
    "# importing\n",
    "from utils import PhysioLoader\n",
    "import numpy as np\n",
    "from loguru import logger\n",
    "import os\n",
    "\n",
    "from physioex.train.networks import config\n",
    "from physioex.data import datasets\n",
    "\n",
    "from tqdm import tqdm\n",
    "import torch\n",
    "from matplotlib import pyplot as plt\n",
    "import seaborn as sns\n",
    "from sklearn.metrics import classification_report, accuracy_score, confusion_matrix\n",
    "\n",
    "from loguru import logger\n",
    "\n",
    "logger.remove()"
   ]
  },
  {
   "cell_type": "code",
   "execution_count": 13,
   "metadata": {},
   "outputs": [],
   "source": [
    "models = [\"seqsleepnet_cem\"]\n",
    "dataset = {\"name\": \"dreem\", \"version\": \"dodh\"}\n",
    "seqlen = 3\n",
    "loss = \"cel\"\n",
    "batch_size = 32\n",
    "\n",
    "sleep_stages = [\"Awake\", \"N1\", \"N2\", \"N3\", \"REM\"]\n",
    "if dataset[\"name\"] == \"mitdb\":\n",
    "    sleep_stages = [\"N\", \"S\", \"V\", \"F\", \"Q\"]\n",
    "\n",
    "labels_idx = np.arange(len(sleep_stages)).astype(int)\n",
    "labels_idx_concept = np.arange(len(sleep_stages)).astype(int)"
   ]
  },
  {
   "cell_type": "code",
   "execution_count": 16,
   "metadata": {},
   "outputs": [
    {
     "name": "stderr",
     "output_type": "stream",
     "text": [
      "100%|██████████| 68/68 [00:00<00:00, 121.53it/s]\n",
      "/home/manni/miniconda3/envs/physioex/lib/python3.10/site-packages/sklearn/metrics/_classification.py:1509: UndefinedMetricWarning: Precision is ill-defined and being set to 0.0 in labels with no predicted samples. Use `zero_division` parameter to control this behavior.\n",
      "  _warn_prf(average, modifier, f\"{metric.capitalize()} is\", len(result))\n",
      "/home/manni/miniconda3/envs/physioex/lib/python3.10/site-packages/sklearn/metrics/_classification.py:1509: UndefinedMetricWarning: Precision is ill-defined and being set to 0.0 in labels with no predicted samples. Use `zero_division` parameter to control this behavior.\n",
      "  _warn_prf(average, modifier, f\"{metric.capitalize()} is\", len(result))\n",
      "/home/manni/miniconda3/envs/physioex/lib/python3.10/site-packages/sklearn/metrics/_classification.py:1509: UndefinedMetricWarning: Precision is ill-defined and being set to 0.0 in labels with no predicted samples. Use `zero_division` parameter to control this behavior.\n",
      "  _warn_prf(average, modifier, f\"{metric.capitalize()} is\", len(result))\n"
     ]
    },
    {
     "name": "stdout",
     "output_type": "stream",
     "text": [
      "(6474,) (6474,) (6474,) (6474,)\n"
     ]
    },
    {
     "name": "stderr",
     "output_type": "stream",
     "text": [
      "100%|██████████| 52/52 [00:00<00:00, 117.03it/s]\n",
      "/home/manni/miniconda3/envs/physioex/lib/python3.10/site-packages/sklearn/metrics/_classification.py:1509: UndefinedMetricWarning: Precision is ill-defined and being set to 0.0 in labels with no predicted samples. Use `zero_division` parameter to control this behavior.\n",
      "  _warn_prf(average, modifier, f\"{metric.capitalize()} is\", len(result))\n",
      "/home/manni/miniconda3/envs/physioex/lib/python3.10/site-packages/sklearn/metrics/_classification.py:1509: UndefinedMetricWarning: Precision is ill-defined and being set to 0.0 in labels with no predicted samples. Use `zero_division` parameter to control this behavior.\n",
      "  _warn_prf(average, modifier, f\"{metric.capitalize()} is\", len(result))\n",
      "/home/manni/miniconda3/envs/physioex/lib/python3.10/site-packages/sklearn/metrics/_classification.py:1509: UndefinedMetricWarning: Precision is ill-defined and being set to 0.0 in labels with no predicted samples. Use `zero_division` parameter to control this behavior.\n",
      "  _warn_prf(average, modifier, f\"{metric.capitalize()} is\", len(result))\n"
     ]
    },
    {
     "name": "stdout",
     "output_type": "stream",
     "text": [
      "(4989,) (4989,) (4989,) (4989,)\n"
     ]
    },
    {
     "name": "stderr",
     "output_type": "stream",
     "text": [
      "100%|██████████| 61/61 [00:00<00:00, 120.61it/s]\n",
      "/home/manni/miniconda3/envs/physioex/lib/python3.10/site-packages/sklearn/metrics/_classification.py:1509: UndefinedMetricWarning: Precision is ill-defined and being set to 0.0 in labels with no predicted samples. Use `zero_division` parameter to control this behavior.\n",
      "  _warn_prf(average, modifier, f\"{metric.capitalize()} is\", len(result))\n",
      "/home/manni/miniconda3/envs/physioex/lib/python3.10/site-packages/sklearn/metrics/_classification.py:1509: UndefinedMetricWarning: Precision is ill-defined and being set to 0.0 in labels with no predicted samples. Use `zero_division` parameter to control this behavior.\n",
      "  _warn_prf(average, modifier, f\"{metric.capitalize()} is\", len(result))\n",
      "/home/manni/miniconda3/envs/physioex/lib/python3.10/site-packages/sklearn/metrics/_classification.py:1509: UndefinedMetricWarning: Precision is ill-defined and being set to 0.0 in labels with no predicted samples. Use `zero_division` parameter to control this behavior.\n",
      "  _warn_prf(average, modifier, f\"{metric.capitalize()} is\", len(result))\n"
     ]
    },
    {
     "name": "stdout",
     "output_type": "stream",
     "text": [
      "(5778,) (5778,) (5778,) (5778,)\n"
     ]
    },
    {
     "name": "stderr",
     "output_type": "stream",
     "text": [
      "100%|██████████| 62/62 [00:00<00:00, 121.23it/s]\n",
      "/home/manni/miniconda3/envs/physioex/lib/python3.10/site-packages/sklearn/metrics/_classification.py:1509: UndefinedMetricWarning: Precision is ill-defined and being set to 0.0 in labels with no predicted samples. Use `zero_division` parameter to control this behavior.\n",
      "  _warn_prf(average, modifier, f\"{metric.capitalize()} is\", len(result))\n",
      "/home/manni/miniconda3/envs/physioex/lib/python3.10/site-packages/sklearn/metrics/_classification.py:1509: UndefinedMetricWarning: Precision is ill-defined and being set to 0.0 in labels with no predicted samples. Use `zero_division` parameter to control this behavior.\n",
      "  _warn_prf(average, modifier, f\"{metric.capitalize()} is\", len(result))\n",
      "/home/manni/miniconda3/envs/physioex/lib/python3.10/site-packages/sklearn/metrics/_classification.py:1509: UndefinedMetricWarning: Precision is ill-defined and being set to 0.0 in labels with no predicted samples. Use `zero_division` parameter to control this behavior.\n",
      "  _warn_prf(average, modifier, f\"{metric.capitalize()} is\", len(result))\n"
     ]
    },
    {
     "name": "stdout",
     "output_type": "stream",
     "text": [
      "(5928,) (5928,) (5928,) (5928,)\n"
     ]
    },
    {
     "name": "stderr",
     "output_type": "stream",
     "text": [
      "100%|██████████| 63/63 [00:00<00:00, 102.96it/s]\n",
      "/home/manni/miniconda3/envs/physioex/lib/python3.10/site-packages/sklearn/metrics/_classification.py:1509: UndefinedMetricWarning: Precision is ill-defined and being set to 0.0 in labels with no predicted samples. Use `zero_division` parameter to control this behavior.\n",
      "  _warn_prf(average, modifier, f\"{metric.capitalize()} is\", len(result))\n",
      "/home/manni/miniconda3/envs/physioex/lib/python3.10/site-packages/sklearn/metrics/_classification.py:1509: UndefinedMetricWarning: Precision is ill-defined and being set to 0.0 in labels with no predicted samples. Use `zero_division` parameter to control this behavior.\n",
      "  _warn_prf(average, modifier, f\"{metric.capitalize()} is\", len(result))\n",
      "/home/manni/miniconda3/envs/physioex/lib/python3.10/site-packages/sklearn/metrics/_classification.py:1509: UndefinedMetricWarning: Precision is ill-defined and being set to 0.0 in labels with no predicted samples. Use `zero_division` parameter to control this behavior.\n",
      "  _warn_prf(average, modifier, f\"{metric.capitalize()} is\", len(result))\n"
     ]
    },
    {
     "name": "stdout",
     "output_type": "stream",
     "text": [
      "(5961,) (5961,) (5961,) (5961,)\n"
     ]
    },
    {
     "name": "stderr",
     "output_type": "stream",
     "text": [
      "100%|██████████| 62/62 [00:00<00:00, 65.06it/s] \n",
      "/home/manni/miniconda3/envs/physioex/lib/python3.10/site-packages/sklearn/metrics/_classification.py:1509: UndefinedMetricWarning: Precision is ill-defined and being set to 0.0 in labels with no predicted samples. Use `zero_division` parameter to control this behavior.\n",
      "  _warn_prf(average, modifier, f\"{metric.capitalize()} is\", len(result))\n",
      "/home/manni/miniconda3/envs/physioex/lib/python3.10/site-packages/sklearn/metrics/_classification.py:1509: UndefinedMetricWarning: Precision is ill-defined and being set to 0.0 in labels with no predicted samples. Use `zero_division` parameter to control this behavior.\n",
      "  _warn_prf(average, modifier, f\"{metric.capitalize()} is\", len(result))\n",
      "/home/manni/miniconda3/envs/physioex/lib/python3.10/site-packages/sklearn/metrics/_classification.py:1509: UndefinedMetricWarning: Precision is ill-defined and being set to 0.0 in labels with no predicted samples. Use `zero_division` parameter to control this behavior.\n",
      "  _warn_prf(average, modifier, f\"{metric.capitalize()} is\", len(result))\n"
     ]
    },
    {
     "name": "stdout",
     "output_type": "stream",
     "text": [
      "(5946,) (5946,) (5946,) (5946,)\n"
     ]
    },
    {
     "name": "stderr",
     "output_type": "stream",
     "text": [
      "100%|██████████| 64/64 [00:00<00:00, 102.65it/s]\n",
      "/home/manni/miniconda3/envs/physioex/lib/python3.10/site-packages/sklearn/metrics/_classification.py:1509: UndefinedMetricWarning: Precision is ill-defined and being set to 0.0 in labels with no predicted samples. Use `zero_division` parameter to control this behavior.\n",
      "  _warn_prf(average, modifier, f\"{metric.capitalize()} is\", len(result))\n",
      "/home/manni/miniconda3/envs/physioex/lib/python3.10/site-packages/sklearn/metrics/_classification.py:1509: UndefinedMetricWarning: Precision is ill-defined and being set to 0.0 in labels with no predicted samples. Use `zero_division` parameter to control this behavior.\n",
      "  _warn_prf(average, modifier, f\"{metric.capitalize()} is\", len(result))\n",
      "/home/manni/miniconda3/envs/physioex/lib/python3.10/site-packages/sklearn/metrics/_classification.py:1509: UndefinedMetricWarning: Precision is ill-defined and being set to 0.0 in labels with no predicted samples. Use `zero_division` parameter to control this behavior.\n",
      "  _warn_prf(average, modifier, f\"{metric.capitalize()} is\", len(result))\n"
     ]
    },
    {
     "name": "stdout",
     "output_type": "stream",
     "text": [
      "(6060,) (6060,) (6060,) (6060,)\n"
     ]
    },
    {
     "name": "stderr",
     "output_type": "stream",
     "text": [
      "100%|██████████| 60/60 [00:00<00:00, 98.96it/s]\n",
      "/home/manni/miniconda3/envs/physioex/lib/python3.10/site-packages/sklearn/metrics/_classification.py:1509: UndefinedMetricWarning: Precision is ill-defined and being set to 0.0 in labels with no predicted samples. Use `zero_division` parameter to control this behavior.\n",
      "  _warn_prf(average, modifier, f\"{metric.capitalize()} is\", len(result))\n",
      "/home/manni/miniconda3/envs/physioex/lib/python3.10/site-packages/sklearn/metrics/_classification.py:1509: UndefinedMetricWarning: Precision is ill-defined and being set to 0.0 in labels with no predicted samples. Use `zero_division` parameter to control this behavior.\n",
      "  _warn_prf(average, modifier, f\"{metric.capitalize()} is\", len(result))\n",
      "/home/manni/miniconda3/envs/physioex/lib/python3.10/site-packages/sklearn/metrics/_classification.py:1509: UndefinedMetricWarning: Precision is ill-defined and being set to 0.0 in labels with no predicted samples. Use `zero_division` parameter to control this behavior.\n",
      "  _warn_prf(average, modifier, f\"{metric.capitalize()} is\", len(result))\n"
     ]
    },
    {
     "name": "stdout",
     "output_type": "stream",
     "text": [
      "(5703,) (5703,) (5703,) (5703,)\n"
     ]
    },
    {
     "name": "stderr",
     "output_type": "stream",
     "text": [
      "100%|██████████| 62/62 [00:00<00:00, 97.95it/s] \n",
      "/home/manni/miniconda3/envs/physioex/lib/python3.10/site-packages/sklearn/metrics/_classification.py:1509: UndefinedMetricWarning: Precision is ill-defined and being set to 0.0 in labels with no predicted samples. Use `zero_division` parameter to control this behavior.\n",
      "  _warn_prf(average, modifier, f\"{metric.capitalize()} is\", len(result))\n",
      "/home/manni/miniconda3/envs/physioex/lib/python3.10/site-packages/sklearn/metrics/_classification.py:1509: UndefinedMetricWarning: Precision is ill-defined and being set to 0.0 in labels with no predicted samples. Use `zero_division` parameter to control this behavior.\n",
      "  _warn_prf(average, modifier, f\"{metric.capitalize()} is\", len(result))\n",
      "/home/manni/miniconda3/envs/physioex/lib/python3.10/site-packages/sklearn/metrics/_classification.py:1509: UndefinedMetricWarning: Precision is ill-defined and being set to 0.0 in labels with no predicted samples. Use `zero_division` parameter to control this behavior.\n",
      "  _warn_prf(average, modifier, f\"{metric.capitalize()} is\", len(result))\n"
     ]
    },
    {
     "name": "stdout",
     "output_type": "stream",
     "text": [
      "(5862,) (5862,) (5862,) (5862,)\n"
     ]
    },
    {
     "name": "stderr",
     "output_type": "stream",
     "text": [
      "100%|██████████| 65/65 [00:00<00:00, 100.59it/s]\n",
      "/home/manni/miniconda3/envs/physioex/lib/python3.10/site-packages/sklearn/metrics/_classification.py:1509: UndefinedMetricWarning: Precision is ill-defined and being set to 0.0 in labels with no predicted samples. Use `zero_division` parameter to control this behavior.\n",
      "  _warn_prf(average, modifier, f\"{metric.capitalize()} is\", len(result))\n",
      "/home/manni/miniconda3/envs/physioex/lib/python3.10/site-packages/sklearn/metrics/_classification.py:1509: UndefinedMetricWarning: Precision is ill-defined and being set to 0.0 in labels with no predicted samples. Use `zero_division` parameter to control this behavior.\n",
      "  _warn_prf(average, modifier, f\"{metric.capitalize()} is\", len(result))\n",
      "/home/manni/miniconda3/envs/physioex/lib/python3.10/site-packages/sklearn/metrics/_classification.py:1509: UndefinedMetricWarning: Precision is ill-defined and being set to 0.0 in labels with no predicted samples. Use `zero_division` parameter to control this behavior.\n",
      "  _warn_prf(average, modifier, f\"{metric.capitalize()} is\", len(result))\n"
     ]
    },
    {
     "name": "stdout",
     "output_type": "stream",
     "text": [
      "(6222,) (6222,) (6222,) (6222,)\n",
      "Accuracy: 93.12% +/- 3.55%\n",
      "Accuracy concept: 69.50% +/- 6.48%\n"
     ]
    },
    {
     "data": {
      "image/png": "[encoded data removed]",
      "text/plain": [
       "<Figure size 600x500 with 2 Axes>"
      ]
     },
     "metadata": {},
     "output_type": "display_data"
    },
    {
     "data": {
      "image/png": "[encoded data removed]",
      "text/plain": [
       "<Figure size 600x500 with 2 Axes>"
      ]
     },
     "metadata": {},
     "output_type": "display_data"
    }
   ],
   "source": [
    "for model in models:\n",
    "\n",
    "    if dataset[\"version\"] is None:\n",
    "        ckp_path = f\"models/cel/{model}/seqlen={seqlen}/{dataset['name']}\"\n",
    "    else:\n",
    "        ckp_path = (\n",
    "            f\"models/cel/{model}/seqlen={seqlen}/{dataset['name']}/{dataset['version']}\"\n",
    "        )\n",
    "    ckp_path = \"models/binary_end_c8\"\n",
    "\n",
    "    loader = PhysioLoader(\n",
    "        model_name=model,\n",
    "        loss_name=loss,\n",
    "        ckp_path=ckp_path,\n",
    "        dataset_name=dataset[\"name\"],\n",
    "        version=dataset[\"version\"],\n",
    "        use_cache=True,\n",
    "        sequence_lenght=seqlen,\n",
    "        batch_size=batch_size,\n",
    "    )\n",
    "\n",
    "    acc = []\n",
    "    acc_concept = []\n",
    "\n",
    "    cm = []\n",
    "    cm_concept = []\n",
    "\n",
    "    reports = []\n",
    "    reports_concept = []\n",
    "\n",
    "    for i in range(len(loader.checkpoints)):\n",
    "        model, _, _, test_loader = loader.get_fold(i)\n",
    "        y_pred = []\n",
    "        y_true = []\n",
    "        act_pred = []\n",
    "        act_true = []\n",
    "\n",
    "        device = torch.device(\"cuda\" if torch.cuda.is_available() else \"cpu\")\n",
    "\n",
    "        # Imposta il modello in modalità di valutazione\n",
    "        model = model.eval().to(device)\n",
    "\n",
    "        outputs = []\n",
    "        activations = []\n",
    "        # Disabilita il calcolo del gradiente\n",
    "        with torch.no_grad():\n",
    "            # Aggiungi tqdm per mostrare il progresso\n",
    "            \n",
    "            for inputs, labels in tqdm(test_loader):\n",
    "                # Calcola le previsioni del modello\n",
    "                concepts, bo = model.encode(inputs.to(device))\n",
    "                emb, act = concepts\n",
    "                activations.extend(act.cpu().detach().squeeze())\n",
    "\n",
    "                outputs.extend(model(inputs.to(device)).cpu().detach())\n",
    "                y_true.extend(labels.cpu().detach())\n",
    "                act_true.extend(labels.cpu().detach())\n",
    "\n",
    "        outputs = torch.stack(outputs)\n",
    "        activations = torch.stack(activations)\n",
    "\n",
    "        y_true = torch.stack(y_true)\n",
    "        act_true = torch.stack(act_true)\n",
    "\n",
    "        y_pred = torch.argmax(outputs, dim=len(outputs.size()) - 1)\n",
    "        act_pred = torch.argmax(activations, dim=len(activations.size()) - 1)\n",
    "\n",
    "        if len(y_pred.size()) == 2:\n",
    "            y_pred = y_pred.reshape(-1)\n",
    "            y_true = y_true.reshape(-1)\n",
    "            act_pred = act_pred.reshape(-1)\n",
    "            act_true = act_true.reshape(-1)\n",
    "\n",
    "        y_true = y_true.numpy()\n",
    "        act_true = act_true.numpy()\n",
    "        y_pred = y_pred.numpy()\n",
    "        act_pred = act_pred.numpy()\n",
    "\n",
    "        #temp, finchè non ci sono le attivazioni vere\n",
    "        if(model.n_classes == 2):\n",
    "            #mette al posto di 2,3,4 il valore 1\n",
    "            y_true[(y_true == 2) | (y_true == 3) | (y_true == 4)] = 1\n",
    "            labels_idx = np.arange(2).astype(int)\n",
    "        else:\n",
    "            y_true = y_true\n",
    "            \n",
    "        print(y_true.shape, y_pred.shape, act_true.shape, act_pred.shape)\n",
    "\n",
    "        acc.append(accuracy_score(y_true, y_pred))\n",
    "        acc_concept.append(accuracy_score(act_true, act_pred))\n",
    "        cm.append(confusion_matrix(y_true, y_pred, labels=labels_idx))\n",
    "        cm_concept.append(confusion_matrix(act_true, act_pred, labels=labels_idx_concept))\n",
    "\n",
    "        reports.append(classification_report(y_true, y_pred))\n",
    "        reports_concept.append(classification_report(act_true, act_pred))\n",
    "\n",
    "    acc = np.array(acc)\n",
    "    cm = np.array(cm)\n",
    "\n",
    "    acc_concept = np.array(acc_concept)\n",
    "    cm_concept = np.array(cm_concept)\n",
    "\n",
    "    print(f\"Accuracy: {acc.mean() * 100:.2f}% +/- {acc.std() * 100:.2f}%\")\n",
    "    print(f\"Accuracy concept: {acc_concept.mean() * 100:.2f}% +/- {acc_concept.std() * 100:.2f}%\")\n",
    "\n",
    "    cm_mean = cm.mean(axis=0)\n",
    "    cm_mean = cm_mean.astype(\"float\") / cm_mean.sum(axis=1)[:, np.newaxis]\n",
    "    plt.figure(figsize=(6, 5))\n",
    "    sns.heatmap(\n",
    "        cm_mean,\n",
    "        annot=True,\n",
    "        fmt=\".2f\",\n",
    "        cmap=\"Blues\",\n",
    "        xticklabels=sleep_stages,\n",
    "        yticklabels=sleep_stages,\n",
    "    )\n",
    "    plt.title(\"Normalized Target confusion matrix\")\n",
    "    plt.ylabel(\"True label\")\n",
    "    plt.xlabel(\"Predicted label\")\n",
    "    plt.show()\n",
    "\n",
    "    cm_concept_mean = cm_concept.mean(axis=0)\n",
    "    cm_concept_mean = cm_concept_mean.astype(\"float\") / cm_concept_mean.sum(axis=1)[:, np.newaxis]\n",
    "    plt.figure(figsize=(6, 5))\n",
    "    sns.heatmap(\n",
    "        cm_concept_mean,\n",
    "        annot=True,\n",
    "        fmt=\".2f\",\n",
    "        cmap=\"Blues\",\n",
    "        xticklabels=sleep_stages,\n",
    "        yticklabels=sleep_stages,\n",
    "    )\n",
    "    plt.title(\"Normalized Concept confusion matrix\")\n",
    "    plt.ylabel(\"True label\")\n",
    "    plt.xlabel(\"Predicted label\")\n",
    "    plt.show()\n",
    "\n",
    "\n"
   ]
  },
  {
   "cell_type": "code",
   "execution_count": null,
   "metadata": {},
   "outputs": [],
   "source": []
  },
  {
   "cell_type": "code",
   "execution_count": null,
   "metadata": {},
   "outputs": [],
   "source": []
  },
  {
   "cell_type": "code",
   "execution_count": null,
   "metadata": {},
   "outputs": [
    {
     "name": "stdout",
     "output_type": "stream",
     "text": [
      "(0,0.428)(1,0.347)(2,0.326)(3,0.337)(4,0.327)(5,0.335)(6,0.302)(7,0.32)(8,0.316)(9,0.335)(10,0.293)(11,0.324)(12,0.324)(13,0.318)(14,0.333)(15,0.316)(16,0.356)(17,0.376)(18,0.368)(19,0.395)\n",
      "(0,0.266)(1,0.17)(2,0.166)(3,0.163)(4,0.156)(5,0.149)(6,0.153)(7,0.155)(8,0.156)(9,0.162)(10,0.163)(11,0.17)(12,0.209)(13,0.179)(14,0.234)(15,0.219)(16,0.193)(17,0.188)(18,0.22)(19,0.254)\n",
      "(0,0.503)(1,0.372)(2,0.314)(3,0.314)(4,0.283)(5,0.261)(6,0.34)(7,0.286)(8,0.264)(9,0.254)(10,0.253)(11,0.335)(12,0.29)(13,0.308)(14,0.27)(15,0.294)(16,0.3)(17,0.311)(18,0.294)(19,0.3)\n",
      "(0,0.319)(1,0.196)(2,0.174)(3,0.175)(4,0.172)(5,0.176)(6,0.178)(7,0.176)(8,0.179)(9,0.18)(10,0.177)(11,0.177)(12,0.181)(13,0.185)(14,0.201)(15,0.19)(16,0.208)(17,0.212)(18,0.24)(19,0.22)\n",
      "(0,0.328)(1,0.179)(2,0.172)(3,0.183)(4,0.297)(5,0.18)(6,0.202)(7,0.206)(8,0.195)(9,0.218)(10,0.207)(11,0.202)(12,0.227)(13,0.215)(14,0.224)(15,0.231)(16,0.217)(17,0.282)(18,0.248)(19,0.218)\n",
      "(0,0.27)(1,0.176)(2,0.168)(3,0.172)(4,0.171)(5,0.162)(6,0.169)(7,0.169)(8,0.18)(9,0.214)(10,0.197)(11,0.21)(12,0.192)(13,0.237)(14,0.214)(15,0.213)(16,0.221)(17,0.207)(18,0.217)(19,0.261)\n",
      "(0,0.236)(1,0.162)(2,0.152)(3,0.185)(4,0.177)(5,0.164)(6,0.29)(7,0.207)(8,0.189)(9,0.233)(10,0.198)(11,0.229)(12,0.204)(13,0.213)(14,0.206)(15,0.229)(16,0.222)(17,0.258)(18,0.21)(19,0.23)\n",
      "(0,0.295)(1,0.172)(2,0.161)(3,0.16)(4,0.156)(5,0.169)(6,0.18)(7,0.168)(8,0.199)(9,0.198)(10,0.2)(11,0.203)(12,0.244)(13,0.19)(14,0.216)(15,0.226)(16,0.264)(17,0.22)(18,0.249)(19,0.234)\n",
      "(0,0.313)(1,0.181)(2,0.168)(3,0.167)(4,0.172)(5,0.18)(6,0.178)(7,0.188)(8,0.189)(9,0.211)(10,0.202)(11,0.214)(12,0.211)(13,0.22)(14,0.238)(15,0.24)(16,0.253)(17,0.294)(18,0.269)(19,0.279)\n",
      "(0,0.284)(1,0.185)(2,0.192)(3,0.173)(4,0.187)(5,0.169)(6,0.237)(7,0.167)(8,0.173)(9,0.173)(10,0.171)(11,0.191)(12,0.206)(13,0.19)(14,0.229)(15,0.206)(16,0.205)(17,0.211)(18,0.205)(19,0.214)\n",
      "\n",
      "(0,0.324)(1,0.214)(2,0.199)(3,0.203)(4,0.21)(5,0.194)(6,0.223)(7,0.204)(8,0.204)(9,0.218)(10,0.206)(11,0.225)(12,0.229)(13,0.226)(14,0.237)(15,0.236)(16,0.244)(17,0.256)(18,0.252)(19,0.261)\n"
     ]
    }
   ],
   "source": [
    "#script to extract the mean of loss cross validation values from the csv files\n",
    "\n",
    "import csv\n",
    "\n",
    "def extract_column(csv_file, column_name):\n",
    "    values = []\n",
    "    steps = []\n",
    "    with open(csv_file, 'r') as file:\n",
    "        reader = csv.DictReader(file)\n",
    "        for row in reader:\n",
    "            if row[column_name]:  # Check if the value in the specified column is not empty\n",
    "                value = (round(float(row[column_name]), 3))\n",
    "                epoch = int(row['epoch'])\n",
    "                values.append((epoch, value))\n",
    "    return values\n",
    "\n",
    "# Example usage:\n",
    "versions = [0,1,2,3,4,5,6,7,8,9]\n",
    "column_name = 'val_loss_target'\n",
    "model = 'binary_mod1_c8'\n",
    "column_values_matrix = []\n",
    "for ver in versions:\n",
    "    csv_file = 'lightning_logs/' + model + '/version_'+ str(ver) +'/metrics.csv'\n",
    "    column_values = extract_column(csv_file, column_name)\n",
    "    print(\"(\" + \")(\".join([f\"{epoch},{value}\" for epoch, value in column_values]) + \")\")\n",
    "    column_values_matrix.append(column_values)\n",
    "\n",
    "num_columns = len(column_values_matrix[0])\n",
    "column_sums = [0] * num_columns\n",
    "for row in column_values_matrix:\n",
    "    for col_idx, (_, value) in enumerate(row):\n",
    "        column_sums[col_idx] += value\n",
    "column_means = [(constant[0], round(sum / len(column_values_matrix),3)) for constant, sum in zip(column_values_matrix[0][0:num_columns], column_sums)]\n",
    "\n",
    "output = \"(\" + \")(\".join([f\"{epoch},{value}\" for epoch, value in column_means]) + \")\"\n",
    "print(\"\\n\" +output)"
   ]
  },
  {
   "cell_type": "code",
   "execution_count": null,
   "metadata": {},
   "outputs": [],
   "source": []
  },
  {
   "cell_type": "code",
   "execution_count": null,
   "metadata": {},
   "outputs": [],
   "source": []
  },
  {
   "cell_type": "code",
   "execution_count": null,
   "metadata": {},
   "outputs": [],
   "source": []
  },
  {
   "cell_type": "code",
   "execution_count": null,
   "metadata": {},
   "outputs": [],
   "source": []
  },
  {
   "cell_type": "code",
   "execution_count": null,
   "metadata": {},
   "outputs": [],
   "source": []
  }
 ],
 "metadata": {
  "kernelspec": {
   "display_name": "physioex",
   "language": "python",
   "name": "python3"
  },
  "language_info": {
   "codemirror_mode": {
    "name": "ipython",
    "version": 3
   },
   "file_extension": ".py",
   "mimetype": "text/x-python",
   "name": "python",
   "nbconvert_exporter": "python",
   "pygments_lexer": "ipython3",
   "version": "3.10.14"
  }
 },
 "nbformat": 4,
 "nbformat_minor": 2
}
