{
 "cells": [
  {
   "cell_type": "code",
   "execution_count": 1,
   "metadata": {},
   "outputs": [
    {
     "name": "stdout",
     "output_type": "stream",
     "text": [
      "Current working directory: /home/guido/shared/github/physioex-private\n"
     ]
    }
   ],
   "source": [
    "from utils import set_root\n",
    "\n",
    "import pandas as pd\n",
    "import numpy as np\n",
    "\n",
    "import os\n",
    "import seaborn as sns\n",
    "import matplotlib.pyplot as plt\n",
    "\n",
    "set_root()"
   ]
  },
  {
   "cell_type": "code",
   "execution_count": 6,
   "metadata": {},
   "outputs": [],
   "source": [
    "results_path = \"models/multi-source-domain/\"\n",
    "combinations = list( range(0, 2) ) # 0, 1"
   ]
  },
  {
   "cell_type": "code",
   "execution_count": 7,
   "metadata": {},
   "outputs": [
    {
     "name": "stdout",
     "output_type": "stream",
     "text": [
      "[   test_loss  test_acc   test_f1   test_ck   test_pr   test_rc\n",
      "0   1.176623  0.650994  0.614425  0.499358  0.669822  0.650994]\n",
      "test_loss    1.261752\n",
      "test_acc     0.607999\n",
      "test_f1      0.583928\n",
      "test_ck      0.448682\n",
      "test_pr      0.653703\n",
      "test_rc      0.607999\n",
      "dtype: float64\n"
     ]
    }
   ],
   "source": [
    "comb_results = {}\n",
    "for combo in combinations:\n",
    "    \n",
    "    comb_results[combo] = []\n",
    "    \n",
    "    comb_dir = os.path.join(results_path, f\"k={combo}\")\n",
    "    # take all the files in the directory or subdirectories which are named results.csv\n",
    "    \n",
    "    results = []\n",
    "    for root, dirs, files in os.walk(comb_dir):\n",
    "        for file in files:\n",
    "            if str(file) == \"results.csv\":\n",
    "                results.append( os.path.join(root, file) )\n",
    "        \n",
    "    for result in results:    \n",
    "        \n",
    "        result_df = pd.read_csv( result )\n",
    "        # take only the test_results\n",
    "        result_df = result_df[ result_df[\"split\"] == \"test\" ]\n",
    "        result_df = result_df.drop(columns=[\"split\", \"dataset\"]).mean()\n",
    "        result_df = pd.DataFrame(result_df).T\n",
    "                \n",
    "        comb_results[combo].append( result_df )\n",
    "\n",
    "print( comb_results[0] )\n",
    "\n",
    "print( pd.concat( comb_results[1] ).mean() )"
   ]
  },
  {
   "cell_type": "markdown",
   "metadata": {},
   "source": [
    "results with k=8"
   ]
  }
 ],
 "metadata": {
  "kernelspec": {
   "display_name": "physioex",
   "language": "python",
   "name": "python3"
  },
  "language_info": {
   "codemirror_mode": {
    "name": "ipython",
    "version": 3
   },
   "file_extension": ".py",
   "mimetype": "text/x-python",
   "name": "python",
   "nbconvert_exporter": "python",
   "pygments_lexer": "ipython3",
   "version": "3.10.0"
  }
 },
 "nbformat": 4,
 "nbformat_minor": 2
}
