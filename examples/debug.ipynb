{
 "cells": [
  {
   "cell_type": "markdown",
   "metadata": {},
   "source": [
    "# Basic usage of the train/test/finetune utilities"
   ]
  },
  {
   "cell_type": "code",
   "execution_count": 1,
   "metadata": {},
   "outputs": [],
   "source": [
    "from physioex.train.utils import train, test, finetune\n",
    "from physioex.train.models import load_model\n",
    "\n",
    "from physioex.data import PhysioExDataModule\n",
    "\n",
    "import os"
   ]
  },
  {
   "cell_type": "code",
   "execution_count": 2,
   "metadata": {},
   "outputs": [],
   "source": [
    "# Note the best practice is to use a yaml file to store the arguments\n",
    "# datamodule arguments\n",
    "\n",
    "datamodule_kwargs = {\n",
    "    \"selected_channels\": [\"EEG\"],\n",
    "    \"sequence_length\": 3,\n",
    "    \"target_transform\": None, # needs to match model output\n",
    "    \"preprocessing\": \"xsleepnet\", # needs to match model input\n",
    "    \"data_folder\": \"/mnt/guido-data/\", # your custom path here\n",
    "    \"num_workers\": os.cpu_count(), # default value\n",
    "}\n",
    "\n",
    "# let's use the standard approach to load the model, can be any SleepModule\n",
    "# you can use it also in a .yaml file\n",
    "\n",
    "#model_class = \"physioex.train.networks.seqsleepnet:SeqSleepNet\"\n",
    "model_class = \"physioex.train.networks.wrapper:Wrapper\"\n",
    "\n",
    "import importlib\n",
    "module_name, class_name = model_class.split(\":\")\n",
    "model_class = getattr(importlib.import_module(module_name), class_name)\n",
    "\n",
    "# now we need to define the model parameters, \n",
    "# these should be passed in the constructor of the model as a dictionary \"model_config\"\n",
    "\n",
    "# first read the default parameters from physioex\n",
    "from physioex.train.networks import config as networks_config\n",
    "model_config = networks_config[\"default\"][\"model_kwargs\"].copy()\n",
    "\n",
    "# now we can modify the parameters as we want, first using the specific parameters for the model\n",
    "if \"model_kwargs\" in networks_config[\"seqsleepnet\"]:\n",
    "    model_config.update(networks_config[\"seqsleepnet\"][\"model_kwargs\"])\n",
    "\n",
    "# now setup the ones that depends on the datamodule\n",
    "model_config.update({\n",
    "    \"in_channels\" : len(datamodule_kwargs[\"selected_channels\"]),\n",
    "    \"sequence_length\" : datamodule_kwargs[\"sequence_length\"],\n",
    "})\n",
    "\n",
    "train_kwargs = {\n",
    "    \"datasets\": \"mass\", # dataset to use, can be also a PhysioExDataModule\n",
    "    \"datamodule_kwargs\": datamodule_kwargs,\n",
    "    \"model_class\": model_class,\n",
    "    \"model_config\": model_config,\n",
    "    \"batch_size\": 128,\n",
    "    \"num_validations\": 1, # number of validations to perform per epoch\n",
    "    \"checkpoint_path\": \"../models/basic_usage/\", # path to save the model\n",
    "    \"max_epochs\": 15,\n",
    "    \"resume\": False, # if the train sees a checkpoint it will resume from there\n",
    "    \"checkpoint_metric\": \"val_loss\", # metric to use to save the best model\n",
    "    \"checkpoint_metric_mode\": \"min\", # mode to use to save the best model\n",
    "}"
   ]
  },
  {
   "cell_type": "code",
   "execution_count": 3,
   "metadata": {},
   "outputs": [
    {
     "name": "stderr",
     "output_type": "stream",
     "text": [
      "Seed set to 42\n"
     ]
    },
    {
     "name": "stdout",
     "output_type": "stream",
     "text": [
      "Selected fold for dataset 0: 0\n",
      "Selected fold for dataset 0: 0\n"
     ]
    },
    {
     "name": "stderr",
     "output_type": "stream",
     "text": [
      "GPU available: True (cuda), used: True\n",
      "TPU available: False, using: 0 TPU cores\n",
      "HPU available: False, using: 0 HPUs\n",
      "/home/manni/miniconda3/envs/physioex/lib/python3.10/site-packages/pytorch_lightning/callbacks/model_checkpoint.py:652: Checkpoint directory /home/manni/physioex/models/basic_usage exists and is not empty.\n",
      "LOCAL_RANK: 0 - CUDA_VISIBLE_DEVICES: [0]\n",
      "\n",
      "   | Name | Type                 | Params | Mode \n",
      "-------------------------------------------------------\n",
      "0  | nn   | Net                  | 193 K  | train\n",
      "1  | wacc | MulticlassAccuracy   | 0      | train\n",
      "2  | macc | MulticlassAccuracy   | 0      | train\n",
      "3  | wf1  | MulticlassF1Score    | 0      | train\n",
      "4  | mf1  | MulticlassF1Score    | 0      | train\n",
      "5  | ck   | MulticlassCohenKappa | 0      | train\n",
      "6  | pr   | MulticlassPrecision  | 0      | train\n",
      "7  | rc   | MulticlassRecall     | 0      | train\n",
      "8  | loss | CrossEntropyLoss     | 0      | train\n",
      "9  | acc  | MulticlassAccuracy   | 0      | train\n",
      "10 | Mf1  | MulticlassF1Score    | 0      | train\n",
      "-------------------------------------------------------\n",
      "56.1 K    Trainable params\n",
      "137 K     Non-trainable params\n",
      "193 K     Total params\n",
      "0.775     Total estimated model params size (MB)\n"
     ]
    },
    {
     "name": "stdout",
     "output_type": "stream",
     "text": [
      "cuda:0\n"
     ]
    },
    {
     "data": {
      "application/vnd.jupyter.widget-view+json": {
       "model_id": "d087497a334c4bbeac078085eeb6cf9e",
       "version_major": 2,
       "version_minor": 0
      },
      "text/plain": [
       "Sanity Checking: |          | 0/? [00:00<?, ?it/s]"
      ]
     },
     "metadata": {},
     "output_type": "display_data"
    },
    {
     "data": {
      "application/vnd.jupyter.widget-view+json": {
       "model_id": "dab61ad25e5f4dd7b32c9ea3136e5266",
       "version_major": 2,
       "version_minor": 0
      },
      "text/plain": [
       "Training: |          | 0/? [00:00<?, ?it/s]"
      ]
     },
     "metadata": {},
     "output_type": "display_data"
    },
    {
     "data": {
      "application/vnd.jupyter.widget-view+json": {
       "model_id": "693a0d255fc5448184a9409670bbd549",
       "version_major": 2,
       "version_minor": 0
      },
      "text/plain": [
       "Validation: |          | 0/? [00:00<?, ?it/s]"
      ]
     },
     "metadata": {},
     "output_type": "display_data"
    },
    {
     "data": {
      "application/vnd.jupyter.widget-view+json": {
       "model_id": "8f015b3b8d9a4f8ba37bba72a954a8a3",
       "version_major": 2,
       "version_minor": 0
      },
      "text/plain": [
       "Validation: |          | 0/? [00:00<?, ?it/s]"
      ]
     },
     "metadata": {},
     "output_type": "display_data"
    },
    {
     "name": "stderr",
     "output_type": "stream",
     "text": [
      "/home/manni/miniconda3/envs/physioex/lib/python3.10/site-packages/pytorch_lightning/trainer/call.py:54: Detected KeyboardInterrupt, attempting graceful shutdown...\n"
     ]
    }
   ],
   "source": [
    "# now we can train the model\n",
    "\n",
    "best_checkpoint = train( **train_kwargs )\n",
    "\n",
    "best_checkpoint = os.path.join( train_kwargs[\"checkpoint_path\"], best_checkpoint )"
   ]
  },
  {
   "cell_type": "code",
   "execution_count": 5,
   "metadata": {},
   "outputs": [
    {
     "name": "stderr",
     "output_type": "stream",
     "text": [
      "Seed set to 42\n",
      "GPU available: True (cuda), used: True\n",
      "TPU available: False, using: 0 TPU cores\n",
      "HPU available: False, using: 0 HPUs\n",
      "LOCAL_RANK: 0 - CUDA_VISIBLE_DEVICES: [0]\n"
     ]
    },
    {
     "name": "stdout",
     "output_type": "stream",
     "text": [
      "cpu\n",
      "Selected fold for dataset 0: 0\n",
      "Selected fold for dataset 0: 0\n",
      "cpu\n"
     ]
    },
    {
     "data": {
      "application/vnd.jupyter.widget-view+json": {
       "model_id": "bf8db3743c4943279b76f61998ea6b36",
       "version_major": 2,
       "version_minor": 0
      },
      "text/plain": [
       "Testing: |          | 0/? [00:00<?, ?it/s]"
      ]
     },
     "metadata": {},
     "output_type": "display_data"
    },
    {
     "data": {
      "text/html": [
       "<pre style=\"white-space:pre;overflow-x:auto;line-height:normal;font-family:Menlo,'DejaVu Sans Mono',consolas,'Courier New',monospace\">┏━━━━━━━━━━━━━━━━━━━━━━━━━━━┳━━━━━━━━━━━━━━━━━━━━━━━━━━━┓\n",
       "┃<span style=\"font-weight: bold\">        Test metric        </span>┃<span style=\"font-weight: bold\">       DataLoader 0        </span>┃\n",
       "┡━━━━━━━━━━━━━━━━━━━━━━━━━━━╇━━━━━━━━━━━━━━━━━━━━━━━━━━━┩\n",
       "│<span style=\"color: #008080; text-decoration-color: #008080\">         test_Mf1          </span>│<span style=\"color: #800080; text-decoration-color: #800080\">     0.340486615896225     </span>│\n",
       "│<span style=\"color: #008080; text-decoration-color: #008080\">         test_cel          </span>│<span style=\"color: #800080; text-decoration-color: #800080\">    1.2772881984710693     </span>│\n",
       "│<span style=\"color: #008080; text-decoration-color: #008080\">          test_f1          </span>│<span style=\"color: #800080; text-decoration-color: #800080\">    0.3952943980693817     </span>│\n",
       "│<span style=\"color: #008080; text-decoration-color: #008080\">         test_loss         </span>│<span style=\"color: #800080; text-decoration-color: #800080\">    18.550464630126953     </span>│\n",
       "│<span style=\"color: #008080; text-decoration-color: #008080\">         test_mse          </span>│<span style=\"color: #800080; text-decoration-color: #800080\">    0.7239184975624084     </span>│\n",
       "│<span style=\"color: #008080; text-decoration-color: #008080\">          test_r1          </span>│<span style=\"color: #800080; text-decoration-color: #800080\">     3.527681589126587     </span>│\n",
       "│<span style=\"color: #008080; text-decoration-color: #008080\">          test_r2          </span>│<span style=\"color: #800080; text-decoration-color: #800080\">    1.1086255311965942     </span>│\n",
       "│<span style=\"color: #008080; text-decoration-color: #008080\">       test_rec_loss       </span>│<span style=\"color: #800080; text-decoration-color: #800080\">    0.8569663166999817     </span>│\n",
       "│<span style=\"color: #008080; text-decoration-color: #008080\">       test_std_pen        </span>│<span style=\"color: #800080; text-decoration-color: #800080\">    0.21156243979930878    </span>│\n",
       "│<span style=\"color: #008080; text-decoration-color: #008080\">      test_std_pen_F       </span>│<span style=\"color: #800080; text-decoration-color: #800080\">    0.19471769034862518    </span>│\n",
       "│<span style=\"color: #008080; text-decoration-color: #008080\">      test_std_pen_T       </span>│<span style=\"color: #800080; text-decoration-color: #800080\">    0.3080638647079468     </span>│\n",
       "└───────────────────────────┴───────────────────────────┘\n",
       "</pre>\n"
      ],
      "text/plain": [
       "┏━━━━━━━━━━━━━━━━━━━━━━━━━━━┳━━━━━━━━━━━━━━━━━━━━━━━━━━━┓\n",
       "┃\u001b[1m \u001b[0m\u001b[1m       Test metric       \u001b[0m\u001b[1m \u001b[0m┃\u001b[1m \u001b[0m\u001b[1m      DataLoader 0       \u001b[0m\u001b[1m \u001b[0m┃\n",
       "┡━━━━━━━━━━━━━━━━━━━━━━━━━━━╇━━━━━━━━━━━━━━━━━━━━━━━━━━━┩\n",
       "│\u001b[36m \u001b[0m\u001b[36m        test_Mf1         \u001b[0m\u001b[36m \u001b[0m│\u001b[35m \u001b[0m\u001b[35m    0.340486615896225    \u001b[0m\u001b[35m \u001b[0m│\n",
       "│\u001b[36m \u001b[0m\u001b[36m        test_cel         \u001b[0m\u001b[36m \u001b[0m│\u001b[35m \u001b[0m\u001b[35m   1.2772881984710693    \u001b[0m\u001b[35m \u001b[0m│\n",
       "│\u001b[36m \u001b[0m\u001b[36m         test_f1         \u001b[0m\u001b[36m \u001b[0m│\u001b[35m \u001b[0m\u001b[35m   0.3952943980693817    \u001b[0m\u001b[35m \u001b[0m│\n",
       "│\u001b[36m \u001b[0m\u001b[36m        test_loss        \u001b[0m\u001b[36m \u001b[0m│\u001b[35m \u001b[0m\u001b[35m   18.550464630126953    \u001b[0m\u001b[35m \u001b[0m│\n",
       "│\u001b[36m \u001b[0m\u001b[36m        test_mse         \u001b[0m\u001b[36m \u001b[0m│\u001b[35m \u001b[0m\u001b[35m   0.7239184975624084    \u001b[0m\u001b[35m \u001b[0m│\n",
       "│\u001b[36m \u001b[0m\u001b[36m         test_r1         \u001b[0m\u001b[36m \u001b[0m│\u001b[35m \u001b[0m\u001b[35m    3.527681589126587    \u001b[0m\u001b[35m \u001b[0m│\n",
       "│\u001b[36m \u001b[0m\u001b[36m         test_r2         \u001b[0m\u001b[36m \u001b[0m│\u001b[35m \u001b[0m\u001b[35m   1.1086255311965942    \u001b[0m\u001b[35m \u001b[0m│\n",
       "│\u001b[36m \u001b[0m\u001b[36m      test_rec_loss      \u001b[0m\u001b[36m \u001b[0m│\u001b[35m \u001b[0m\u001b[35m   0.8569663166999817    \u001b[0m\u001b[35m \u001b[0m│\n",
       "│\u001b[36m \u001b[0m\u001b[36m      test_std_pen       \u001b[0m\u001b[36m \u001b[0m│\u001b[35m \u001b[0m\u001b[35m   0.21156243979930878   \u001b[0m\u001b[35m \u001b[0m│\n",
       "│\u001b[36m \u001b[0m\u001b[36m     test_std_pen_F      \u001b[0m\u001b[36m \u001b[0m│\u001b[35m \u001b[0m\u001b[35m   0.19471769034862518   \u001b[0m\u001b[35m \u001b[0m│\n",
       "│\u001b[36m \u001b[0m\u001b[36m     test_std_pen_T      \u001b[0m\u001b[36m \u001b[0m│\u001b[35m \u001b[0m\u001b[35m   0.3080638647079468    \u001b[0m\u001b[35m \u001b[0m│\n",
       "└───────────────────────────┴───────────────────────────┘\n"
      ]
     },
     "metadata": {},
     "output_type": "display_data"
    },
    {
     "data": {
      "text/html": [
       "<div>\n",
       "<style scoped>\n",
       "    .dataframe tbody tr th:only-of-type {\n",
       "        vertical-align: middle;\n",
       "    }\n",
       "\n",
       "    .dataframe tbody tr th {\n",
       "        vertical-align: top;\n",
       "    }\n",
       "\n",
       "    .dataframe thead th {\n",
       "        text-align: right;\n",
       "    }\n",
       "</style>\n",
       "<table border=\"1\" class=\"dataframe\">\n",
       "  <thead>\n",
       "    <tr style=\"text-align: right;\">\n",
       "      <th></th>\n",
       "      <th>test_loss</th>\n",
       "      <th>test_cel</th>\n",
       "      <th>test_r1</th>\n",
       "      <th>test_r2</th>\n",
       "      <th>test_rec_loss</th>\n",
       "      <th>test_mse</th>\n",
       "      <th>test_std_pen</th>\n",
       "      <th>test_std_pen_T</th>\n",
       "      <th>test_std_pen_F</th>\n",
       "      <th>test_f1</th>\n",
       "      <th>test_Mf1</th>\n",
       "      <th>dataset</th>\n",
       "      <th>fold</th>\n",
       "    </tr>\n",
       "  </thead>\n",
       "  <tbody>\n",
       "    <tr>\n",
       "      <th>0</th>\n",
       "      <td>18.550465</td>\n",
       "      <td>1.277288</td>\n",
       "      <td>3.527682</td>\n",
       "      <td>1.108626</td>\n",
       "      <td>0.856966</td>\n",
       "      <td>0.723918</td>\n",
       "      <td>0.211562</td>\n",
       "      <td>0.308064</td>\n",
       "      <td>0.194718</td>\n",
       "      <td>0.395294</td>\n",
       "      <td>0.340487</td>\n",
       "      <td>hmc</td>\n",
       "      <td>-1</td>\n",
       "    </tr>\n",
       "  </tbody>\n",
       "</table>\n",
       "</div>"
      ],
      "text/plain": [
       "   test_loss  test_cel   test_r1   test_r2  test_rec_loss  test_mse  \\\n",
       "0  18.550465  1.277288  3.527682  1.108626       0.856966  0.723918   \n",
       "\n",
       "   test_std_pen  test_std_pen_T  test_std_pen_F   test_f1  test_Mf1 dataset  \\\n",
       "0      0.211562        0.308064        0.194718  0.395294  0.340487     hmc   \n",
       "\n",
       "   fold  \n",
       "0    -1  "
      ]
     },
     "execution_count": 5,
     "metadata": {},
     "output_type": "execute_result"
    }
   ],
   "source": [
    "# now we should (optional) load and test the model on the test split of the dataset\n",
    "\n",
    "# in case you want to load the model you can just use physioex.train.models:load_model\n",
    "\n",
    "model = load_model(\n",
    "    model = model_class,\n",
    "    model_kwargs = model_config,\n",
    "    ckpt_path = best_checkpoint,\n",
    ")\n",
    "\n",
    "# or you can use the API offered by the test utility\n",
    "\n",
    "test_kwargs = {\n",
    "    \"datasets\": \"mass\",\n",
    "    \"datamodule_kwargs\": datamodule_kwargs,\n",
    "    \"model\": None,  # if you want to use the model loaded before you can pass it here\n",
    "    \"model_class\": model_class,\n",
    "    \"model_config\": model_config,\n",
    "    \"batch_size\": 128,\n",
    "    \"checkpoint_path\": best_checkpoint,\n",
    "    \"results_path\": \"../models/basic_usage/\"\n",
    "}\n",
    "\n",
    "hmc_results = test( **test_kwargs )\n",
    "\n",
    "hmc_results.head() \n",
    "# note: fold:-1 is a random fold setted up at the beginning. HMC has 1 fold so it's always the '0'fold"
   ]
  },
  {
   "cell_type": "code",
   "execution_count": 4,
   "metadata": {},
   "outputs": [
    {
     "ename": "NameError",
     "evalue": "name 'test_kwargs' is not defined",
     "output_type": "error",
     "traceback": [
      "\u001b[0;31m---------------------------------------------------------------------------\u001b[0m",
      "\u001b[0;31mNameError\u001b[0m                                 Traceback (most recent call last)",
      "Cell \u001b[0;32mIn[4], line 4\u001b[0m\n\u001b[1;32m      1\u001b[0m \u001b[38;5;66;03m# now we can finetune the model on the dcsm dataset\u001b[39;00m\n\u001b[1;32m      2\u001b[0m \n\u001b[1;32m      3\u001b[0m \u001b[38;5;66;03m# first let's see the accuracy of the model on the dcsm dataset\u001b[39;00m\n\u001b[0;32m----> 4\u001b[0m \u001b[43mtest_kwargs\u001b[49m[\u001b[38;5;124m\"\u001b[39m\u001b[38;5;124mdatasets\u001b[39m\u001b[38;5;124m\"\u001b[39m] \u001b[38;5;241m=\u001b[39m \u001b[38;5;124m\"\u001b[39m\u001b[38;5;124mmass\u001b[39m\u001b[38;5;124m\"\u001b[39m\n\u001b[1;32m      5\u001b[0m dcsm_results \u001b[38;5;241m=\u001b[39m test( \u001b[38;5;241m*\u001b[39m\u001b[38;5;241m*\u001b[39mtest_kwargs )\n\u001b[1;32m      7\u001b[0m dcsm_results\u001b[38;5;241m.\u001b[39mhead()\n",
      "\u001b[0;31mNameError\u001b[0m: name 'test_kwargs' is not defined"
     ]
    }
   ],
   "source": [
    "# now we can finetune the model on the dcsm dataset\n",
    "\n",
    "# first let's see the accuracy of the model on the dcsm dataset\n",
    "test_kwargs[\"datasets\"] = \"mass\"\n",
    "dcsm_results = test( **test_kwargs )\n",
    "\n",
    "dcsm_results.head()\n",
    "# note : the same result could be obtained setting datasets as [\"hmc\", \"dcsm\"]"
   ]
  },
  {
   "cell_type": "code",
   "execution_count": 20,
   "metadata": {},
   "outputs": [
    {
     "name": "stderr",
     "output_type": "stream",
     "text": [
      "Seed set to 42\n",
      "GPU available: True (cuda), used: True\n",
      "TPU available: False, using: 0 TPU cores\n",
      "HPU available: False, using: 0 HPUs\n",
      "/home/guido/miniconda3/envs/physioex/lib/python3.12/site-packages/pytorch_lightning/callbacks/model_checkpoint.py:654: Checkpoint directory /home/guido/github/physioex-private/models/basic_usage/finetuned exists and is not empty.\n",
      "LOCAL_RANK: 0 - CUDA_VISIBLE_DEVICES: [0]\n",
      "\n",
      "  | Name | Type                 | Params | Mode \n",
      "------------------------------------------------------\n",
      "0 | nn   | Net                  | 137 K  | train\n",
      "1 | wacc | MulticlassAccuracy   | 0      | train\n",
      "2 | macc | MulticlassAccuracy   | 0      | train\n",
      "3 | wf1  | MulticlassF1Score    | 0      | train\n",
      "4 | mf1  | MulticlassF1Score    | 0      | train\n",
      "5 | ck   | MulticlassCohenKappa | 0      | train\n",
      "6 | pr   | MulticlassPrecision  | 0      | train\n",
      "7 | rc   | MulticlassRecall     | 0      | train\n",
      "8 | loss | CrossEntropyLoss     | 0      | train\n",
      "------------------------------------------------------\n",
      "133 K     Trainable params\n",
      "4.1 K     Non-trainable params\n",
      "137 K     Total params\n",
      "0.551     Total estimated model params size (MB)\n",
      "17        Modules in train mode\n",
      "0         Modules in eval mode\n"
     ]
    },
    {
     "data": {
      "application/vnd.jupyter.widget-view+json": {
       "model_id": "2701e0a90ead481da6e438f0894d4782",
       "version_major": 2,
       "version_minor": 0
      },
      "text/plain": [
       "Sanity Checking: |          | 0/? [00:00<?, ?it/s]"
      ]
     },
     "metadata": {},
     "output_type": "display_data"
    },
    {
     "data": {
      "application/vnd.jupyter.widget-view+json": {
       "model_id": "fadd29e1e0f244e387e077defa813cd4",
       "version_major": 2,
       "version_minor": 0
      },
      "text/plain": [
       "Training: |          | 0/? [00:00<?, ?it/s]"
      ]
     },
     "metadata": {},
     "output_type": "display_data"
    },
    {
     "data": {
      "application/vnd.jupyter.widget-view+json": {
       "model_id": "2ac967f41f1b49eda896bc10ec9971ad",
       "version_major": 2,
       "version_minor": 0
      },
      "text/plain": [
       "Validation: |          | 0/? [00:00<?, ?it/s]"
      ]
     },
     "metadata": {},
     "output_type": "display_data"
    },
    {
     "data": {
      "application/vnd.jupyter.widget-view+json": {
       "model_id": "8f347d9e23484e67a8111e398a243158",
       "version_major": 2,
       "version_minor": 0
      },
      "text/plain": [
       "Validation: |          | 0/? [00:00<?, ?it/s]"
      ]
     },
     "metadata": {},
     "output_type": "display_data"
    },
    {
     "data": {
      "application/vnd.jupyter.widget-view+json": {
       "model_id": "44174ef7c2ac4eb99d7ad95081ede437",
       "version_major": 2,
       "version_minor": 0
      },
      "text/plain": [
       "Validation: |          | 0/? [00:00<?, ?it/s]"
      ]
     },
     "metadata": {},
     "output_type": "display_data"
    },
    {
     "data": {
      "application/vnd.jupyter.widget-view+json": {
       "model_id": "80e16fa477214b35aa63d53f79abe607",
       "version_major": 2,
       "version_minor": 0
      },
      "text/plain": [
       "Validation: |          | 0/? [00:00<?, ?it/s]"
      ]
     },
     "metadata": {},
     "output_type": "display_data"
    },
    {
     "data": {
      "application/vnd.jupyter.widget-view+json": {
       "model_id": "47b2a7f6a11d4c28b82b74df9b5d301d",
       "version_major": 2,
       "version_minor": 0
      },
      "text/plain": [
       "Validation: |          | 0/? [00:00<?, ?it/s]"
      ]
     },
     "metadata": {},
     "output_type": "display_data"
    },
    {
     "data": {
      "application/vnd.jupyter.widget-view+json": {
       "model_id": "3e9119c135aa434091e444a7cb638183",
       "version_major": 2,
       "version_minor": 0
      },
      "text/plain": [
       "Validation: |          | 0/? [00:00<?, ?it/s]"
      ]
     },
     "metadata": {},
     "output_type": "display_data"
    },
    {
     "data": {
      "application/vnd.jupyter.widget-view+json": {
       "model_id": "3ff0b0e37ef34d009c716ac742028a78",
       "version_major": 2,
       "version_minor": 0
      },
      "text/plain": [
       "Validation: |          | 0/? [00:00<?, ?it/s]"
      ]
     },
     "metadata": {},
     "output_type": "display_data"
    },
    {
     "data": {
      "application/vnd.jupyter.widget-view+json": {
       "model_id": "7e4f31557fea4e5a89c08490ab7144fa",
       "version_major": 2,
       "version_minor": 0
      },
      "text/plain": [
       "Validation: |          | 0/? [00:00<?, ?it/s]"
      ]
     },
     "metadata": {},
     "output_type": "display_data"
    },
    {
     "data": {
      "application/vnd.jupyter.widget-view+json": {
       "model_id": "ea3daefd2e7948738d1322e168f4d839",
       "version_major": 2,
       "version_minor": 0
      },
      "text/plain": [
       "Validation: |          | 0/? [00:00<?, ?it/s]"
      ]
     },
     "metadata": {},
     "output_type": "display_data"
    },
    {
     "name": "stderr",
     "output_type": "stream",
     "text": [
      "`Trainer.fit` stopped: `max_epochs=1` reached.\n"
     ]
    }
   ],
   "source": [
    "\n",
    "# now finetune the model on the dcsm dataset decreasing the learning rate\n",
    "\n",
    "train_kwargs[\"datasets\"] = \"dcsm\"\n",
    "train_kwargs[\"checkpoint_path\"] = \"../models/basic_usage/finetuned/\"\n",
    "\n",
    "finetune_kwargs = {\n",
    "    \"model\": None,\n",
    "    \"model_class\": model_class,\n",
    "    \"model_config\": model_config,\n",
    "    \"model_checkpoint\": best_checkpoint,\n",
    "    \"learning_rate\": 1e-7,\n",
    "    \"train_kwargs\": train_kwargs,\n",
    "}\n",
    "\n",
    "new_best_checkpoint = finetune( **finetune_kwargs )\n",
    "\n",
    "new_best_checkpoint = os.path.join( train_kwargs[\"checkpoint_path\"], new_best_checkpoint )\n"
   ]
  },
  {
   "cell_type": "code",
   "execution_count": 24,
   "metadata": {},
   "outputs": [
    {
     "name": "stderr",
     "output_type": "stream",
     "text": [
      "Seed set to 42\n",
      "GPU available: True (cuda), used: True\n",
      "TPU available: False, using: 0 TPU cores\n",
      "HPU available: False, using: 0 HPUs\n",
      "LOCAL_RANK: 0 - CUDA_VISIBLE_DEVICES: [0]\n"
     ]
    },
    {
     "data": {
      "application/vnd.jupyter.widget-view+json": {
       "model_id": "9b5b319cda244d109abd60c2e9939902",
       "version_major": 2,
       "version_minor": 0
      },
      "text/plain": [
       "Testing: |          | 0/? [00:00<?, ?it/s]"
      ]
     },
     "metadata": {},
     "output_type": "display_data"
    },
    {
     "data": {
      "text/html": [
       "<pre style=\"white-space:pre;overflow-x:auto;line-height:normal;font-family:Menlo,'DejaVu Sans Mono',consolas,'Courier New',monospace\">┏━━━━━━━━━━━━━━━━━━━━━━━━━━━┳━━━━━━━━━━━━━━━━━━━━━━━━━━━┓\n",
       "┃<span style=\"font-weight: bold\">        Test metric        </span>┃<span style=\"font-weight: bold\">       DataLoader 0        </span>┃\n",
       "┡━━━━━━━━━━━━━━━━━━━━━━━━━━━╇━━━━━━━━━━━━━━━━━━━━━━━━━━━┩\n",
       "│<span style=\"color: #008080; text-decoration-color: #008080\">         test_acc          </span>│<span style=\"color: #800080; text-decoration-color: #800080\">    0.7087806463241577     </span>│\n",
       "│<span style=\"color: #008080; text-decoration-color: #008080\">          test_ck          </span>│<span style=\"color: #800080; text-decoration-color: #800080\">    0.6214028000831604     </span>│\n",
       "│<span style=\"color: #008080; text-decoration-color: #008080\">          test_f1          </span>│<span style=\"color: #800080; text-decoration-color: #800080\">    0.7025613784790039     </span>│\n",
       "│<span style=\"color: #008080; text-decoration-color: #008080\">         test_loss         </span>│<span style=\"color: #800080; text-decoration-color: #800080\">    0.7353542447090149     </span>│\n",
       "│<span style=\"color: #008080; text-decoration-color: #008080\">         test_macc         </span>│<span style=\"color: #800080; text-decoration-color: #800080\">    0.6813777089118958     </span>│\n",
       "│<span style=\"color: #008080; text-decoration-color: #008080\">         test_mf1          </span>│<span style=\"color: #800080; text-decoration-color: #800080\">    0.6640945076942444     </span>│\n",
       "│<span style=\"color: #008080; text-decoration-color: #008080\">          test_pr          </span>│<span style=\"color: #800080; text-decoration-color: #800080\">    0.7089968919754028     </span>│\n",
       "│<span style=\"color: #008080; text-decoration-color: #008080\">          test_rc          </span>│<span style=\"color: #800080; text-decoration-color: #800080\">    0.7087806463241577     </span>│\n",
       "└───────────────────────────┴───────────────────────────┘\n",
       "</pre>\n"
      ],
      "text/plain": [
       "┏━━━━━━━━━━━━━━━━━━━━━━━━━━━┳━━━━━━━━━━━━━━━━━━━━━━━━━━━┓\n",
       "┃\u001b[1m \u001b[0m\u001b[1m       Test metric       \u001b[0m\u001b[1m \u001b[0m┃\u001b[1m \u001b[0m\u001b[1m      DataLoader 0       \u001b[0m\u001b[1m \u001b[0m┃\n",
       "┡━━━━━━━━━━━━━━━━━━━━━━━━━━━╇━━━━━━━━━━━━━━━━━━━━━━━━━━━┩\n",
       "│\u001b[36m \u001b[0m\u001b[36m        test_acc         \u001b[0m\u001b[36m \u001b[0m│\u001b[35m \u001b[0m\u001b[35m   0.7087806463241577    \u001b[0m\u001b[35m \u001b[0m│\n",
       "│\u001b[36m \u001b[0m\u001b[36m         test_ck         \u001b[0m\u001b[36m \u001b[0m│\u001b[35m \u001b[0m\u001b[35m   0.6214028000831604    \u001b[0m\u001b[35m \u001b[0m│\n",
       "│\u001b[36m \u001b[0m\u001b[36m         test_f1         \u001b[0m\u001b[36m \u001b[0m│\u001b[35m \u001b[0m\u001b[35m   0.7025613784790039    \u001b[0m\u001b[35m \u001b[0m│\n",
       "│\u001b[36m \u001b[0m\u001b[36m        test_loss        \u001b[0m\u001b[36m \u001b[0m│\u001b[35m \u001b[0m\u001b[35m   0.7353542447090149    \u001b[0m\u001b[35m \u001b[0m│\n",
       "│\u001b[36m \u001b[0m\u001b[36m        test_macc        \u001b[0m\u001b[36m \u001b[0m│\u001b[35m \u001b[0m\u001b[35m   0.6813777089118958    \u001b[0m\u001b[35m \u001b[0m│\n",
       "│\u001b[36m \u001b[0m\u001b[36m        test_mf1         \u001b[0m\u001b[36m \u001b[0m│\u001b[35m \u001b[0m\u001b[35m   0.6640945076942444    \u001b[0m\u001b[35m \u001b[0m│\n",
       "│\u001b[36m \u001b[0m\u001b[36m         test_pr         \u001b[0m\u001b[36m \u001b[0m│\u001b[35m \u001b[0m\u001b[35m   0.7089968919754028    \u001b[0m\u001b[35m \u001b[0m│\n",
       "│\u001b[36m \u001b[0m\u001b[36m         test_rc         \u001b[0m\u001b[36m \u001b[0m│\u001b[35m \u001b[0m\u001b[35m   0.7087806463241577    \u001b[0m\u001b[35m \u001b[0m│\n",
       "└───────────────────────────┴───────────────────────────┘\n"
      ]
     },
     "metadata": {},
     "output_type": "display_data"
    },
    {
     "name": "stderr",
     "output_type": "stream",
     "text": [
      "LOCAL_RANK: 0 - CUDA_VISIBLE_DEVICES: [0]\n"
     ]
    },
    {
     "data": {
      "application/vnd.jupyter.widget-view+json": {
       "model_id": "832995493d6e461d87d41d7bf6f1c711",
       "version_major": 2,
       "version_minor": 0
      },
      "text/plain": [
       "Testing: |          | 0/? [00:00<?, ?it/s]"
      ]
     },
     "metadata": {},
     "output_type": "display_data"
    },
    {
     "data": {
      "text/html": [
       "<pre style=\"white-space:pre;overflow-x:auto;line-height:normal;font-family:Menlo,'DejaVu Sans Mono',consolas,'Courier New',monospace\">┏━━━━━━━━━━━━━━━━━━━━━━━━━━━┳━━━━━━━━━━━━━━━━━━━━━━━━━━━┓\n",
       "┃<span style=\"font-weight: bold\">        Test metric        </span>┃<span style=\"font-weight: bold\">       DataLoader 0        </span>┃\n",
       "┡━━━━━━━━━━━━━━━━━━━━━━━━━━━╇━━━━━━━━━━━━━━━━━━━━━━━━━━━┩\n",
       "│<span style=\"color: #008080; text-decoration-color: #008080\">         test_acc          </span>│<span style=\"color: #800080; text-decoration-color: #800080\">    0.5887628793716431     </span>│\n",
       "│<span style=\"color: #008080; text-decoration-color: #008080\">          test_ck          </span>│<span style=\"color: #800080; text-decoration-color: #800080\">    0.4236217141151428     </span>│\n",
       "│<span style=\"color: #008080; text-decoration-color: #008080\">          test_f1          </span>│<span style=\"color: #800080; text-decoration-color: #800080\">    0.6168046593666077     </span>│\n",
       "│<span style=\"color: #008080; text-decoration-color: #008080\">         test_loss         </span>│<span style=\"color: #800080; text-decoration-color: #800080\">    1.4943362474441528     </span>│\n",
       "│<span style=\"color: #008080; text-decoration-color: #008080\">         test_macc         </span>│<span style=\"color: #800080; text-decoration-color: #800080\">     0.605950653553009     </span>│\n",
       "│<span style=\"color: #008080; text-decoration-color: #008080\">         test_mf1          </span>│<span style=\"color: #800080; text-decoration-color: #800080\">    0.5350980758666992     </span>│\n",
       "│<span style=\"color: #008080; text-decoration-color: #008080\">          test_pr          </span>│<span style=\"color: #800080; text-decoration-color: #800080\">    0.7684549689292908     </span>│\n",
       "│<span style=\"color: #008080; text-decoration-color: #008080\">          test_rc          </span>│<span style=\"color: #800080; text-decoration-color: #800080\">    0.5887628793716431     </span>│\n",
       "└───────────────────────────┴───────────────────────────┘\n",
       "</pre>\n"
      ],
      "text/plain": [
       "┏━━━━━━━━━━━━━━━━━━━━━━━━━━━┳━━━━━━━━━━━━━━━━━━━━━━━━━━━┓\n",
       "┃\u001b[1m \u001b[0m\u001b[1m       Test metric       \u001b[0m\u001b[1m \u001b[0m┃\u001b[1m \u001b[0m\u001b[1m      DataLoader 0       \u001b[0m\u001b[1m \u001b[0m┃\n",
       "┡━━━━━━━━━━━━━━━━━━━━━━━━━━━╇━━━━━━━━━━━━━━━━━━━━━━━━━━━┩\n",
       "│\u001b[36m \u001b[0m\u001b[36m        test_acc         \u001b[0m\u001b[36m \u001b[0m│\u001b[35m \u001b[0m\u001b[35m   0.5887628793716431    \u001b[0m\u001b[35m \u001b[0m│\n",
       "│\u001b[36m \u001b[0m\u001b[36m         test_ck         \u001b[0m\u001b[36m \u001b[0m│\u001b[35m \u001b[0m\u001b[35m   0.4236217141151428    \u001b[0m\u001b[35m \u001b[0m│\n",
       "│\u001b[36m \u001b[0m\u001b[36m         test_f1         \u001b[0m\u001b[36m \u001b[0m│\u001b[35m \u001b[0m\u001b[35m   0.6168046593666077    \u001b[0m\u001b[35m \u001b[0m│\n",
       "│\u001b[36m \u001b[0m\u001b[36m        test_loss        \u001b[0m\u001b[36m \u001b[0m│\u001b[35m \u001b[0m\u001b[35m   1.4943362474441528    \u001b[0m\u001b[35m \u001b[0m│\n",
       "│\u001b[36m \u001b[0m\u001b[36m        test_macc        \u001b[0m\u001b[36m \u001b[0m│\u001b[35m \u001b[0m\u001b[35m    0.605950653553009    \u001b[0m\u001b[35m \u001b[0m│\n",
       "│\u001b[36m \u001b[0m\u001b[36m        test_mf1         \u001b[0m\u001b[36m \u001b[0m│\u001b[35m \u001b[0m\u001b[35m   0.5350980758666992    \u001b[0m\u001b[35m \u001b[0m│\n",
       "│\u001b[36m \u001b[0m\u001b[36m         test_pr         \u001b[0m\u001b[36m \u001b[0m│\u001b[35m \u001b[0m\u001b[35m   0.7684549689292908    \u001b[0m\u001b[35m \u001b[0m│\n",
       "│\u001b[36m \u001b[0m\u001b[36m         test_rc         \u001b[0m\u001b[36m \u001b[0m│\u001b[35m \u001b[0m\u001b[35m   0.5887628793716431    \u001b[0m\u001b[35m \u001b[0m│\n",
       "└───────────────────────────┴───────────────────────────┘\n"
      ]
     },
     "metadata": {},
     "output_type": "display_data"
    },
    {
     "data": {
      "text/html": [
       "<div>\n",
       "<style scoped>\n",
       "    .dataframe tbody tr th:only-of-type {\n",
       "        vertical-align: middle;\n",
       "    }\n",
       "\n",
       "    .dataframe tbody tr th {\n",
       "        vertical-align: top;\n",
       "    }\n",
       "\n",
       "    .dataframe thead th {\n",
       "        text-align: right;\n",
       "    }\n",
       "</style>\n",
       "<table border=\"1\" class=\"dataframe\">\n",
       "  <thead>\n",
       "    <tr style=\"text-align: right;\">\n",
       "      <th></th>\n",
       "      <th>test_loss</th>\n",
       "      <th>test_acc</th>\n",
       "      <th>test_f1</th>\n",
       "      <th>test_ck</th>\n",
       "      <th>test_pr</th>\n",
       "      <th>test_rc</th>\n",
       "      <th>test_macc</th>\n",
       "      <th>test_mf1</th>\n",
       "      <th>dataset</th>\n",
       "      <th>fold</th>\n",
       "    </tr>\n",
       "  </thead>\n",
       "  <tbody>\n",
       "    <tr>\n",
       "      <th>0</th>\n",
       "      <td>0.735354</td>\n",
       "      <td>0.708781</td>\n",
       "      <td>0.702561</td>\n",
       "      <td>0.621403</td>\n",
       "      <td>0.708997</td>\n",
       "      <td>0.708781</td>\n",
       "      <td>0.681378</td>\n",
       "      <td>0.664095</td>\n",
       "      <td>hmc</td>\n",
       "      <td>-1</td>\n",
       "    </tr>\n",
       "    <tr>\n",
       "      <th>1</th>\n",
       "      <td>1.494336</td>\n",
       "      <td>0.588763</td>\n",
       "      <td>0.616805</td>\n",
       "      <td>0.423622</td>\n",
       "      <td>0.768455</td>\n",
       "      <td>0.588763</td>\n",
       "      <td>0.605951</td>\n",
       "      <td>0.535098</td>\n",
       "      <td>dcsm</td>\n",
       "      <td>-1</td>\n",
       "    </tr>\n",
       "  </tbody>\n",
       "</table>\n",
       "</div>"
      ],
      "text/plain": [
       "   test_loss  test_acc   test_f1   test_ck   test_pr   test_rc  test_macc  \\\n",
       "0   0.735354  0.708781  0.702561  0.621403  0.708997  0.708781   0.681378   \n",
       "1   1.494336  0.588763  0.616805  0.423622  0.768455  0.588763   0.605951   \n",
       "\n",
       "   test_mf1 dataset  fold  \n",
       "0  0.664095     hmc    -1  \n",
       "1  0.535098    dcsm    -1  "
      ]
     },
     "execution_count": 24,
     "metadata": {},
     "output_type": "execute_result"
    }
   ],
   "source": [
    "# now we can test the model on both the datasets\n",
    "\n",
    "test_kwargs[\"checkpoint_path\"] = new_best_checkpoint\n",
    "test_kwargs[\"results_path\"] = \"../models/basic_usage/finetuned/\"\n",
    "test_kwargs[\"datasets\"] = [\"hmc\", \"dcsm\"]\n",
    "test_kwargs[\"aggregate_datasets\"] = False # we want to have results for each dataset not for the aggregation of them\n",
    "\n",
    "finetuned_results = test( **test_kwargs )\n",
    "\n",
    "finetuned_results.head()\n"
   ]
  }
 ],
 "metadata": {
  "kernelspec": {
   "display_name": "physioex",
   "language": "python",
   "name": "python3"
  },
  "language_info": {
   "codemirror_mode": {
    "name": "ipython",
    "version": 3
   },
   "file_extension": ".py",
   "mimetype": "text/x-python",
   "name": "python",
   "nbconvert_exporter": "python",
   "pygments_lexer": "ipython3",
   "version": "3.10.14"
  }
 },
 "nbformat": 4,
 "nbformat_minor": 2
}
