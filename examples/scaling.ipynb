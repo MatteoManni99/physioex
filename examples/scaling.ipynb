{
 "cells": [
  {
   "cell_type": "code",
   "execution_count": 1,
   "metadata": {},
   "outputs": [],
   "source": [
    "import numpy as np\n",
    "import pandas as pd\n",
    "\n",
    "xscaling = np.load(\"/home/guido/shared/physio2018/xsleepnet_scaling.npz\")\n",
    "xmean = xscaling[\"mean\"]\n",
    "xstd = xscaling[\"std\"]\n",
    "\n",
    "# check if nan values\n",
    "if np.isnan(xmean).any() or np.isnan(xstd).any():\n",
    "    print(\"nan values in xmean or xstd\")"
   ]
  },
  {
   "cell_type": "code",
   "execution_count": 3,
   "metadata": {},
   "outputs": [],
   "source": [
    "import pandas as pd\n",
    "\n",
    "desc = pd.read_excel(\"../physioex/data/sleep_edf/subjects.xls\")\n",
    "table = pd.read_csv(\"../../../mne_data/table.csv\")\n",
    "\n",
    "desc = desc[[\"subject\", \"age\", \"sex (F=1)\"]]\n",
    "# drop the duplicates\n",
    "desc = desc.drop_duplicates()\n",
    "table[\"age\"] = desc[\"age\"].values\n",
    "table[\"sex\"] = desc[\"sex (F=1)\"].map({1: 1, 2: 0}).values\n",
    "\n",
    "# table = table.drop( columns=[\"Unnamed: 0\"] )\n",
    "table.to_csv(\"../../../mne_data/table.csv\", index=False)"
   ]
  },
  {
   "cell_type": "code",
   "execution_count": 9,
   "metadata": {},
   "outputs": [
    {
     "name": "stdout",
     "output_type": "stream",
     "text": [
      "49\n",
      "[20 22 23 26 27 28 29 30 31 32 33 34 36 37 38 39 41 42 43 44 45 46 48 49\n",
      " 50 51 52 53 55 56 57 58 59 60 61 62 64 65 66 67 68 69 70 72 73 75 76 77\n",
      " 79 80 85]\n",
      "     subject_id  num_samples  start_index  age gender  sex\n",
      "0             0          880            0   64      M    0\n",
      "1             1          964          880   52      M    0\n",
      "2             2          943         1844   38      M    0\n",
      "3             3          963         2787   27      M    0\n",
      "4             4          875         3750   58      F    1\n",
      "..          ...          ...          ...  ...    ...  ...\n",
      "104         104          853        93769   38      M    0\n",
      "105         105          814        94622   31      M    0\n",
      "106         106         1000        95436   31      M    0\n",
      "107         107          969        96436   33      M    0\n",
      "108         108          796        97405   33      M    0\n",
      "\n",
      "[109 rows x 6 columns]\n"
     ]
    }
   ],
   "source": [
    "import pandas as pd\n",
    "import numpy as np\n",
    "\n",
    "# desc = pd.read_excel( \"../physioex/data/sleep_edf/subjects.xls\" )\n",
    "table = pd.read_csv(\"../../../isruc/table.csv\")\n",
    "\n",
    "table[\"sex\"] = table[\"gender\"].map({\"M\": 0, \"F\": 1})\n",
    "\n",
    "# sostituisci i valori \"?\" con la mediana\n",
    "median_age = int(table[table[\"age\"] != \"?\"][\"age\"].values.astype(int).mean())\n",
    "print(median_age)\n",
    "table[\"age\"] = table[\"age\"].replace(\"?\", median_age)\n",
    "table[\"age\"] = table[\"age\"].astype(int)\n",
    "\n",
    "print(np.unique(table[\"age\"]))\n",
    "\n",
    "print(table)\n",
    "table.to_csv(\"../../../isruc/table.csv\", index=False)"
   ]
  },
  {
   "cell_type": "code",
   "execution_count": 15,
   "metadata": {},
   "outputs": [
    {
     "name": "stdout",
     "output_type": "stream",
     "text": [
      "    subject_id  num_samples  start_index  sex  age\n",
      "0            0          748            0    0   54\n",
      "1            1          882          748    0   48\n",
      "2            2          826         1630    0   65\n",
      "3            3          808         2456    0   52\n",
      "4            4          813         3264    0   47\n",
      "5            5          768         4077    1   63\n",
      "6            6          925         4845    0   52\n",
      "7            7          907         5770    0   38\n",
      "8            8          900         6677    0   51\n",
      "9            9          864         7577    0   51\n",
      "10          10          811         8441    1   62\n",
      "11          11          774         9252    0   56\n",
      "12          12          916        10026    0   28\n",
      "13          13          789        10942    0   53\n",
      "14          14          822        11731    0   35\n",
      "15          15          852        12553    0   49\n",
      "16          16          752        13405    0   52\n",
      "17          17          913        14157    1   41\n",
      "18          18          787        15070    0   34\n",
      "19          19          861        15857    1   68\n",
      "20          20          908        16718    0   54\n",
      "21          21          711        17626    0   52\n",
      "22          22          838        18337    0   49\n",
      "23          23          893        19175    0   45\n",
      "24          24          721        20068    0   50\n"
     ]
    }
   ],
   "source": [
    "table = pd.read_csv(\"../../../svuh/table.csv\")\n",
    "table = table.drop(columns=[\"Unnamed: 0\"])\n",
    "table[\"sex\"] = table[\"sex\"].map({\"M\": 0, \"F\": 1})\n",
    "\n",
    "\n",
    "print(table)\n",
    "table.to_csv(\"../../../svuh/table.csv\", index=False)"
   ]
  },
  {
   "cell_type": "code",
   "execution_count": 2,
   "metadata": {},
   "outputs": [
    {
     "name": "stdout",
     "output_type": "stream",
     "text": [
      "1133\n"
     ]
    }
   ],
   "source": [
    "import requests\n",
    "import xml.etree.ElementTree as ET\n",
    "import numpy as np\n",
    "\n",
    "# URL del file XML\n",
    "url = \"https://anon.erda.au.dk/share_redirect/DCuFnOpr1n/polysomnography/annotations-events-profusion/lab/full/homepap-lab-full-1600201-profusion.xml\"\n",
    "\n",
    "# Usa requests per ottenere il contenuto dall'URL\n",
    "response = requests.get(url)\n",
    "if response.status_code == 200:\n",
    "    # Analizza il contenuto XML\n",
    "    root = ET.fromstring(response.content)\n",
    "    nsrr = root.findall(\"SleepStages\")[0]\n",
    "    print(len(nsrr))\n",
    "else:\n",
    "    print(\"Errore nel download del file:\", response.status_code)"
   ]
  },
  {
   "cell_type": "code",
   "execution_count": 7,
   "metadata": {},
   "outputs": [
    {
     "name": "stdout",
     "output_type": "stream",
     "text": [
      "File salvato con successo in /home/guido/shared/hpap/download/lab-split-1600294-profusion.xml\n"
     ]
    }
   ],
   "source": [
    "import requests\n",
    "\n",
    "# URL del file XML\n",
    "url = \"https://anon.erda.au.dk/share_redirect/DCuFnOpr1n/polysomnography/annotations-events-profusion/lab/split/homepap-lab-split-1600294-profusion.xml\"\n",
    "\n",
    "# Percorso dove salvare il file XML\n",
    "file_path = \"/home/guido/shared/hpap/download/lab-split-1600294-profusion.xml\"\n",
    "\n",
    "# Usa requests per ottenere il contenuto dall'URL\n",
    "response = requests.get(url)\n",
    "if response.status_code == 200:\n",
    "    # Salva il contenuto in un file locale\n",
    "    with open(file_path, \"wb\") as file:\n",
    "        file.write(response.content)\n",
    "    print(f\"File salvato con successo in {file_path}\")\n",
    "else:\n",
    "    print(\"Errore nel download del file:\", response.status_code)"
   ]
  },
  {
   "cell_type": "code",
   "execution_count": 33,
   "metadata": {},
   "outputs": [
    {
     "name": "stdout",
     "output_type": "stream",
     "text": [
      "['CannulaFlow', 'Airflow', 'Chest', 'ABD', 'Snore', 'M1', 'M2', 'C3', 'C4', 'O1', 'O2', 'F3', 'F4', 'FPz', 'E1', 'E2', 'ECG1', 'ECG2', 'ECG3', 'Lchin', 'Rchin', 'Cchin', 'Lleg1', 'Lleg2', 'Rleg1', 'Rleg2', 'SAO2', 'Pulse', 'Pleth', 'MaskFlow', 'DHR']\n"
     ]
    }
   ],
   "source": [
    "import pyedflib\n",
    "\n",
    "f = pyedflib.EdfReader(\"/home/guido/shared/hpap/download/lab-full-1600001.edf\")\n",
    "print(f.getSignalLabels())\n",
    "\n",
    "ECG1 = f.readSignal(f.getSignalLabels().index(\"ECG1\"))\n",
    "ECG2 = f.readSignal(f.getSignalLabels().index(\"ECG2\"))\n",
    "ECG3 = f.readSignal(f.getSignalLabels().index(\"ECG3\"))\n",
    "\n",
    "f.close()"
   ]
  },
  {
   "cell_type": "code",
   "execution_count": 54,
   "metadata": {},
   "outputs": [
    {
     "data": {
      "text/plain": [
       "[<matplotlib.lines.Line2D at 0x7f3d87166500>]"
      ]
     },
     "execution_count": 54,
     "metadata": {},
     "output_type": "execute_result"
    },
    {
     "data": {
      "image/png": "[encoded data removed]",
      "text/plain": [
       "<Figure size 640x480 with 1 Axes>"
      ]
     },
     "metadata": {},
     "output_type": "display_data"
    }
   ],
   "source": [
    "from matplotlib import pyplot as plt\n",
    "\n",
    "meanECG = np.mean([ECG1, ECG2, ECG3], axis=0)\n",
    "\n",
    "plt.plot((ECG2 - ECG1)[2000:3000])"
   ]
  },
  {
   "cell_type": "code",
   "execution_count": 19,
   "metadata": {},
   "outputs": [
    {
     "ename": "KeyError",
     "evalue": "'onset'",
     "output_type": "error",
     "traceback": [
      "\u001b[0;31m---------------------------------------------------------------------------\u001b[0m",
      "\u001b[0;31mKeyError\u001b[0m                                  Traceback (most recent call last)",
      "File \u001b[0;32m~/miniconda3/envs/physioex/lib/python3.10/site-packages/pandas/core/indexes/base.py:3805\u001b[0m, in \u001b[0;36mIndex.get_loc\u001b[0;34m(self, key)\u001b[0m\n\u001b[1;32m   3804\u001b[0m \u001b[38;5;28;01mtry\u001b[39;00m:\n\u001b[0;32m-> 3805\u001b[0m     \u001b[38;5;28;01mreturn\u001b[39;00m \u001b[38;5;28;43mself\u001b[39;49m\u001b[38;5;241;43m.\u001b[39;49m\u001b[43m_engine\u001b[49m\u001b[38;5;241;43m.\u001b[39;49m\u001b[43mget_loc\u001b[49m\u001b[43m(\u001b[49m\u001b[43mcasted_key\u001b[49m\u001b[43m)\u001b[49m\n\u001b[1;32m   3806\u001b[0m \u001b[38;5;28;01mexcept\u001b[39;00m \u001b[38;5;167;01mKeyError\u001b[39;00m \u001b[38;5;28;01mas\u001b[39;00m err:\n",
      "File \u001b[0;32mindex.pyx:167\u001b[0m, in \u001b[0;36mpandas._libs.index.IndexEngine.get_loc\u001b[0;34m()\u001b[0m\n",
      "File \u001b[0;32mindex.pyx:196\u001b[0m, in \u001b[0;36mpandas._libs.index.IndexEngine.get_loc\u001b[0;34m()\u001b[0m\n",
      "File \u001b[0;32mpandas/_libs/hashtable_class_helper.pxi:7081\u001b[0m, in \u001b[0;36mpandas._libs.hashtable.PyObjectHashTable.get_item\u001b[0;34m()\u001b[0m\n",
      "File \u001b[0;32mpandas/_libs/hashtable_class_helper.pxi:7089\u001b[0m, in \u001b[0;36mpandas._libs.hashtable.PyObjectHashTable.get_item\u001b[0;34m()\u001b[0m\n",
      "\u001b[0;31mKeyError\u001b[0m: 'onset'",
      "\nThe above exception was the direct cause of the following exception:\n",
      "\u001b[0;31mKeyError\u001b[0m                                  Traceback (most recent call last)",
      "Cell \u001b[0;32mIn[19], line 19\u001b[0m\n\u001b[1;32m     16\u001b[0m df\u001b[38;5;241m.\u001b[39mto_csv(\u001b[38;5;124m\"\u001b[39m\u001b[38;5;124m/home/guido/shared/hpap/download/home-1600005-nsrr.csv\u001b[39m\u001b[38;5;124m\"\u001b[39m, index\u001b[38;5;241m=\u001b[39m\u001b[38;5;28;01mFalse\u001b[39;00m)\n\u001b[1;32m     18\u001b[0m \u001b[38;5;66;03m# Ora puoi leggere il file di annotazioni con MNE\u001b[39;00m\n\u001b[0;32m---> 19\u001b[0m annt \u001b[38;5;241m=\u001b[39m \u001b[43mmne\u001b[49m\u001b[38;5;241;43m.\u001b[39;49m\u001b[43mread_annotations\u001b[49m\u001b[43m(\u001b[49m\u001b[38;5;124;43m\"\u001b[39;49m\u001b[38;5;124;43m/home/guido/shared/hpap/download/home-1600005-nsrr.csv\u001b[39;49m\u001b[38;5;124;43m\"\u001b[39;49m\u001b[43m)\u001b[49m\n\u001b[1;32m     21\u001b[0m channel_names \u001b[38;5;241m=\u001b[39m raw\u001b[38;5;241m.\u001b[39minfo[\u001b[38;5;124m'\u001b[39m\u001b[38;5;124mch_names\u001b[39m\u001b[38;5;124m'\u001b[39m]\n\u001b[1;32m     22\u001b[0m \u001b[38;5;28mprint\u001b[39m(\u001b[38;5;124m\"\u001b[39m\u001b[38;5;124mChannel names:\u001b[39m\u001b[38;5;124m\"\u001b[39m, channel_names)\n",
      "File \u001b[0;32m~/miniconda3/envs/physioex/lib/python3.10/site-packages/mne/annotations.py:1221\u001b[0m, in \u001b[0;36mread_annotations\u001b[0;34m(fname, sfreq, uint16_codec, encoding)\u001b[0m\n\u001b[1;32m   1218\u001b[0m     annotations \u001b[38;5;241m=\u001b[39m _read_annotations_brainvision(fname, sfreq\u001b[38;5;241m=\u001b[39msfreq)\n\u001b[1;32m   1220\u001b[0m \u001b[38;5;28;01melif\u001b[39;00m name\u001b[38;5;241m.\u001b[39mendswith(\u001b[38;5;124m\"\u001b[39m\u001b[38;5;124mcsv\u001b[39m\u001b[38;5;124m\"\u001b[39m):\n\u001b[0;32m-> 1221\u001b[0m     annotations \u001b[38;5;241m=\u001b[39m \u001b[43m_read_annotations_csv\u001b[49m\u001b[43m(\u001b[49m\u001b[43mfname\u001b[49m\u001b[43m)\u001b[49m\n\u001b[1;32m   1223\u001b[0m \u001b[38;5;28;01melif\u001b[39;00m name\u001b[38;5;241m.\u001b[39mendswith(\u001b[38;5;124m\"\u001b[39m\u001b[38;5;124mcnt\u001b[39m\u001b[38;5;124m\"\u001b[39m):\n\u001b[1;32m   1224\u001b[0m     annotations \u001b[38;5;241m=\u001b[39m _read_annotations_cnt(fname)\n",
      "File \u001b[0;32m~/miniconda3/envs/physioex/lib/python3.10/site-packages/mne/annotations.py:1263\u001b[0m, in \u001b[0;36m_read_annotations_csv\u001b[0;34m(fname)\u001b[0m\n\u001b[1;32m   1261\u001b[0m pd \u001b[38;5;241m=\u001b[39m _check_pandas_installed(strict\u001b[38;5;241m=\u001b[39m\u001b[38;5;28;01mTrue\u001b[39;00m)\n\u001b[1;32m   1262\u001b[0m df \u001b[38;5;241m=\u001b[39m pd\u001b[38;5;241m.\u001b[39mread_csv(fname, keep_default_na\u001b[38;5;241m=\u001b[39m\u001b[38;5;28;01mFalse\u001b[39;00m)\n\u001b[0;32m-> 1263\u001b[0m orig_time \u001b[38;5;241m=\u001b[39m \u001b[43mdf\u001b[49m\u001b[43m[\u001b[49m\u001b[38;5;124;43m\"\u001b[39;49m\u001b[38;5;124;43monset\u001b[39;49m\u001b[38;5;124;43m\"\u001b[39;49m\u001b[43m]\u001b[49m\u001b[38;5;241m.\u001b[39mvalues[\u001b[38;5;241m0\u001b[39m]\n\u001b[1;32m   1264\u001b[0m \u001b[38;5;28;01mtry\u001b[39;00m:\n\u001b[1;32m   1265\u001b[0m     \u001b[38;5;28mfloat\u001b[39m(orig_time)\n",
      "File \u001b[0;32m~/miniconda3/envs/physioex/lib/python3.10/site-packages/pandas/core/frame.py:4102\u001b[0m, in \u001b[0;36mDataFrame.__getitem__\u001b[0;34m(self, key)\u001b[0m\n\u001b[1;32m   4100\u001b[0m \u001b[38;5;28;01mif\u001b[39;00m \u001b[38;5;28mself\u001b[39m\u001b[38;5;241m.\u001b[39mcolumns\u001b[38;5;241m.\u001b[39mnlevels \u001b[38;5;241m>\u001b[39m \u001b[38;5;241m1\u001b[39m:\n\u001b[1;32m   4101\u001b[0m     \u001b[38;5;28;01mreturn\u001b[39;00m \u001b[38;5;28mself\u001b[39m\u001b[38;5;241m.\u001b[39m_getitem_multilevel(key)\n\u001b[0;32m-> 4102\u001b[0m indexer \u001b[38;5;241m=\u001b[39m \u001b[38;5;28;43mself\u001b[39;49m\u001b[38;5;241;43m.\u001b[39;49m\u001b[43mcolumns\u001b[49m\u001b[38;5;241;43m.\u001b[39;49m\u001b[43mget_loc\u001b[49m\u001b[43m(\u001b[49m\u001b[43mkey\u001b[49m\u001b[43m)\u001b[49m\n\u001b[1;32m   4103\u001b[0m \u001b[38;5;28;01mif\u001b[39;00m is_integer(indexer):\n\u001b[1;32m   4104\u001b[0m     indexer \u001b[38;5;241m=\u001b[39m [indexer]\n",
      "File \u001b[0;32m~/miniconda3/envs/physioex/lib/python3.10/site-packages/pandas/core/indexes/base.py:3812\u001b[0m, in \u001b[0;36mIndex.get_loc\u001b[0;34m(self, key)\u001b[0m\n\u001b[1;32m   3807\u001b[0m     \u001b[38;5;28;01mif\u001b[39;00m \u001b[38;5;28misinstance\u001b[39m(casted_key, \u001b[38;5;28mslice\u001b[39m) \u001b[38;5;129;01mor\u001b[39;00m (\n\u001b[1;32m   3808\u001b[0m         \u001b[38;5;28misinstance\u001b[39m(casted_key, abc\u001b[38;5;241m.\u001b[39mIterable)\n\u001b[1;32m   3809\u001b[0m         \u001b[38;5;129;01mand\u001b[39;00m \u001b[38;5;28many\u001b[39m(\u001b[38;5;28misinstance\u001b[39m(x, \u001b[38;5;28mslice\u001b[39m) \u001b[38;5;28;01mfor\u001b[39;00m x \u001b[38;5;129;01min\u001b[39;00m casted_key)\n\u001b[1;32m   3810\u001b[0m     ):\n\u001b[1;32m   3811\u001b[0m         \u001b[38;5;28;01mraise\u001b[39;00m InvalidIndexError(key)\n\u001b[0;32m-> 3812\u001b[0m     \u001b[38;5;28;01mraise\u001b[39;00m \u001b[38;5;167;01mKeyError\u001b[39;00m(key) \u001b[38;5;28;01mfrom\u001b[39;00m \u001b[38;5;21;01merr\u001b[39;00m\n\u001b[1;32m   3813\u001b[0m \u001b[38;5;28;01mexcept\u001b[39;00m \u001b[38;5;167;01mTypeError\u001b[39;00m:\n\u001b[1;32m   3814\u001b[0m     \u001b[38;5;66;03m# If we have a listlike key, _check_indexing_error will raise\u001b[39;00m\n\u001b[1;32m   3815\u001b[0m     \u001b[38;5;66;03m#  InvalidIndexError. Otherwise we fall through and re-raise\u001b[39;00m\n\u001b[1;32m   3816\u001b[0m     \u001b[38;5;66;03m#  the TypeError.\u001b[39;00m\n\u001b[1;32m   3817\u001b[0m     \u001b[38;5;28mself\u001b[39m\u001b[38;5;241m.\u001b[39m_check_indexing_error(key)\n",
      "\u001b[0;31mKeyError\u001b[0m: 'onset'"
     ]
    }
   ],
   "source": [
    "import pandas as pd\n",
    "\n",
    "# Leggi il file XML\n",
    "tree = ET.parse(\"/home/guido/shared/hpap/download/home-1600005-nsrr.xml\")\n",
    "root = tree.getroot()\n",
    "\n",
    "# Estrai le annotazioni dal file XML\n",
    "annotations = []\n",
    "for child in root:\n",
    "    annotations.append(child.text)\n",
    "\n",
    "# Scrivi le annotazioni in un file CSV\n",
    "df = pd.DataFrame(annotations, columns=[\"Annotation\"])\n",
    "df.to_csv(\"/home/guido/shared/hpap/download/home-1600005-nsrr.csv\", index=False)\n",
    "\n",
    "# Ora puoi leggere il file di annotazioni con MNE\n",
    "annt = mne.read_annotations(\"/home/guido/shared/hpap/download/home-1600005-nsrr.csv\")\n",
    "\n",
    "channel_names = raw.info[\"ch_names\"]\n",
    "print(\"Channel names:\", channel_names)\n",
    "\n",
    "# Ottieni le proprietà del segnale\n",
    "# data = raw.get_data()\n",
    "\n",
    "# Stampa le proprietà del segnale\n",
    "# for i, channel_name in enumerate(channel_names):\n",
    "#    print(f\"Channel: {channel_name}\")\n",
    "#    print(f\"Signal min: {data[i].min()}\")\n",
    "#    print(f\"Signal max: {data[i].max()}\")\n",
    "#    print(f\"Signal mean: {data[i].mean()}\")"
   ]
  },
  {
   "cell_type": "code",
   "execution_count": 56,
   "metadata": {},
   "outputs": [
    {
     "name": "stdout",
     "output_type": "stream",
     "text": [
      "30\n",
      "['1600008', '1600014', '1600016', '1600037', '1600049', '1600050', '1600051', '1600066', '1600067', '1600073', '1600083', '1600106', '1600117', '1600120', '1600143', '1600152', '1600153', '1600176', '1600190', '1600220', '1600222', '1600227', '1600238', '1600248', '1600277', '1600302', '1600309', '1600329', '1600338', '1600369']\n"
     ]
    }
   ],
   "source": [
    "import pandas as pd\n",
    "import os\n",
    "\n",
    "descriptor = \"https://anon.erda.au.dk/share_redirect/DCuFnOpr1n/datasets/homepap-baseline-harmonized-dataset-0.2.0.csv\"\n",
    "records = pd.read_csv(descriptor)[\"nsrrid\"].values\n",
    "records = [str(record) for record in records]\n",
    "data_path = \"/home/guido/shared/hpap/download/\"\n",
    "\n",
    "# check for all the records if there is at least one .edf file for each record.\n",
    "# print the missing records\n",
    "\n",
    "missing_records = []\n",
    "list_of_records = os.listdir(data_path)\n",
    "list_of_records = [record for record in list_of_records if record.endswith(\".edf\")]\n",
    "\n",
    "for record in records:\n",
    "    num_files = len([file for file in list_of_records if record in file])\n",
    "    if num_files == 0:\n",
    "        missing_records.append(record)\n",
    "\n",
    "print(len(missing_records))\n",
    "print(missing_records)"
   ]
  },
  {
   "cell_type": "code",
   "execution_count": 1,
   "metadata": {},
   "outputs": [],
   "source": [
    "import psg_utils as ut"
   ]
  },
  {
   "cell_type": "code",
   "execution_count": null,
   "metadata": {},
   "outputs": [],
   "source": [
    "ut.downlaod.download_dataset(\"phys\", \"/home/guido/shared/phys/\")"
   ]
  },
  {
   "cell_type": "code",
   "execution_count": 6,
   "metadata": {},
   "outputs": [
    {
     "name": "stdout",
     "output_type": "stream",
     "text": [
      "dict_keys(['X1', 'X2', 'label', 'y'])\n",
      "(5, 1081)\n",
      "(1, 1081)\n"
     ]
    }
   ],
   "source": [
    "import numpy as np\n",
    "import h5py\n",
    "\n",
    "subject = \"/home/guido/shared/dreem/h5/dodh/095d6e40-5f19-55b6-a0ec-6e0ad3793da0.h5\"\n",
    "with h5py.File(subject, \"r\") as f:\n",
    "    data = {key: f[key][()] for key in f.keys()}\n",
    "\n",
    "print(data.keys())\n",
    "print(data[\"y\"].shape)\n",
    "print(data[\"label\"].shape)"
   ]
  },
  {
   "cell_type": "code",
   "execution_count": 1,
   "metadata": {},
   "outputs": [],
   "source": [
    "import numpy as np\n",
    "import pandas as pd\n",
    "import os\n",
    "\n",
    "\n",
    "def online_variance(data):\n",
    "\n",
    "    shape = data.shape[1:]\n",
    "\n",
    "    n = 0\n",
    "    mean = 0\n",
    "    M2 = 0\n",
    "\n",
    "    for x in tqdm(data):\n",
    "        x = np.reshape(x, -1).astype(np.double)\n",
    "\n",
    "        n = n + 1\n",
    "        delta = x - mean\n",
    "        mean = mean + delta / n\n",
    "        M2 = M2 + delta * (x - mean)\n",
    "\n",
    "    variance = M2 / (n - 1)\n",
    "\n",
    "    variance = np.reshape(variance, shape)\n",
    "    mean = np.reshape(mean, shape)\n",
    "\n",
    "    return mean.astype(np.float32), np.sqrt(variance).astype(np.float32)"
   ]
  },
  {
   "cell_type": "code",
   "execution_count": 113,
   "metadata": {},
   "outputs": [
    {
     "name": "stderr",
     "output_type": "stream",
     "text": [
      "  0%|          | 0/194444 [00:00<?, ?it/s]"
     ]
    },
    {
     "name": "stderr",
     "output_type": "stream",
     "text": [
      "100%|██████████| 194444/194444 [02:13<00:00, 1460.39it/s]\n",
      "100%|██████████| 194444/194444 [03:38<00:00, 890.12it/s] \n",
      "100%|██████████| 98201/98201 [00:32<00:00, 3034.89it/s]\n",
      "100%|██████████| 98201/98201 [00:26<00:00, 3724.00it/s]\n",
      "100%|██████████| 228870/228870 [03:23<00:00, 1122.78it/s]\n",
      "100%|██████████| 228870/228870 [02:53<00:00, 1315.56it/s]\n",
      "100%|██████████| 20789/20789 [00:34<00:00, 596.56it/s]\n",
      "100%|██████████| 20789/20789 [00:26<00:00, 779.28it/s] \n",
      " 40%|████      | 231987/578939 [07:54<11:35, 498.91it/s]"
     ]
    }
   ],
   "source": [
    "datasets = [\"mne_data\", \"isruc\", \"mass\", \"svuh\", \"dcsm\"]\n",
    "\n",
    "num_channels = [3, 1, 3, 4, 4]\n",
    "\n",
    "for dataset, num_channel in zip(datasets, num_channels):\n",
    "    dataset_folder = \"/home/guido/\" + dataset + \"/\"\n",
    "    table_path = os.path.join(dataset_folder, \"table.csv\")\n",
    "    table = pd.read_csv(table_path)\n",
    "\n",
    "    print(\"Computing scaling xsleepnet for\", dataset)\n",
    "    signal_path = os.path.join(dataset_folder, \"xsleepnet.dat\")\n",
    "    X = np.memmap(\n",
    "        signal_path,\n",
    "        dtype=\"float32\",\n",
    "        mode=\"r\",\n",
    "        shape=(int(np.sum(table[\"num_samples\"].values)), num_channel, 29, 129),\n",
    "    )\n",
    "\n",
    "    mean, std = online_variance(X)\n",
    "    np.savez(os.path.join(dataset_folder, \"xsleepnet_scaling.npz\"), mean=mean, std=std)\n",
    "\n",
    "    print(\"Computing scaling raw for\", dataset)\n",
    "    signal_path = os.path.join(dataset_folder, \"raw.dat\")\n",
    "    X = np.memmap(\n",
    "        signal_path,\n",
    "        dtype=\"float32\",\n",
    "        mode=\"r\",\n",
    "        shape=(int(np.sum(table[\"num_samples\"].values)), num_channel, 3000),\n",
    "    )\n",
    "\n",
    "    mean, std = online_variance(X)\n",
    "    np.savez(os.path.join(dataset_folder, \"raw_scaling.npz\"), mean=mean, std=std)"
   ]
  },
  {
   "cell_type": "code",
   "execution_count": 107,
   "metadata": {},
   "outputs": [
    {
     "name": "stdout",
     "output_type": "stream",
     "text": [
      "(3, 29, 129) (3, 29, 129)\n",
      "Error in mean:  6.361679\n",
      "Error in std:  4.466608\n"
     ]
    }
   ],
   "source": [
    "real_mean, real_std = np.mean(X, axis=0), np.std(X, axis=0)\n",
    "\n",
    "print(real_mean.shape, real_std.shape)\n",
    "\n",
    "print(\"Error in mean: \", np.sum(np.abs(mean - real_mean)))\n",
    "print(\"Error in std: \", np.sum(np.abs(std - real_std)))"
   ]
  },
  {
   "cell_type": "code",
   "execution_count": 108,
   "metadata": {},
   "outputs": [
    {
     "name": "stdout",
     "output_type": "stream",
     "text": [
      "Computing the scaling\n"
     ]
    }
   ],
   "source": [
    "print(\"Computing the scaling\")\n",
    "scaled = (X - mean) / std"
   ]
  },
  {
   "cell_type": "code",
   "execution_count": 109,
   "metadata": {},
   "outputs": [
    {
     "name": "stdout",
     "output_type": "stream",
     "text": [
      "54197\n",
      "-4.6929585e-09 0.99998534\n"
     ]
    }
   ],
   "source": [
    "print(scaled.shape[0])\n",
    "# select 1000 samples from scaled\n",
    "# scaled = scaled[: scaled.shape[0] // 10 ]\n",
    "\n",
    "print(scaled[:, 0].mean(axis=0).mean(), scaled[:, 0].std(axis=0).mean())"
   ]
  },
  {
   "cell_type": "code",
   "execution_count": 32,
   "metadata": {},
   "outputs": [
    {
     "data": {
      "text/plain": [
       "[<matplotlib.lines.Line2D at 0x7f61c373fcd0>]"
      ]
     },
     "execution_count": 32,
     "metadata": {},
     "output_type": "execute_result"
    },
    {
     "data": {
      "image/png": "[encoded data removed]",
      "text/plain": [
       "<Figure size 640x480 with 1 Axes>"
      ]
     },
     "metadata": {},
     "output_type": "display_data"
    }
   ],
   "source": [
    "# plot X[1]\n",
    "\n",
    "from matplotlib import pyplot as plt\n",
    "\n",
    "x = (X[100, 0, :] - mean[0]) / std[0]\n",
    "plt.plot(x)"
   ]
  },
  {
   "cell_type": "code",
   "execution_count": 24,
   "metadata": {},
   "outputs": [
    {
     "name": "stdout",
     "output_type": "stream",
     "text": [
      "stage N1: 0.03\n",
      "stage N2: 0.18\n",
      "stage N3: 0.07\n",
      "stage REM: 0.09\n",
      "stage W: 0.62\n"
     ]
    }
   ],
   "source": [
    "filepath = \"/home/guido/dcsm/data/sleep/DCSM/\"\n",
    "\n",
    "for file in os.listdir(filepath):\n",
    "    file = filepath + file + \"/\"\n",
    "    hyp = pd.read_csv(os.path.join(file, \"hypnogram.ids\"), header=None)\n",
    "\n",
    "    stages = hyp.iloc[:, 2]\n",
    "    durations = hyp.iloc[:, 1]\n",
    "\n",
    "    # for each stage compute its overall duration during the night\n",
    "\n",
    "    for stage in np.unique(stages):\n",
    "        print(\n",
    "            f\"stage {stage}: {np.sum(durations[stages == stage])/np.sum(durations):.2f}\"\n",
    "        )\n",
    "\n",
    "    break"
   ]
  },
  {
   "cell_type": "code",
   "execution_count": 11,
   "metadata": {},
   "outputs": [
    {
     "name": "stdout",
     "output_type": "stream",
     "text": [
      "subject_id: 0\n",
      "starting_index: 0\n",
      "num_samples: 2694\n",
      "[2 2 2 2 2 2 2 2 2 2]\n",
      "(2694,)\n",
      "(2574,)\n",
      "label 0: 0.65\n",
      "label 1: 0.03\n",
      "label 2: 0.17\n",
      "label 3: 0.07\n",
      "label 4: 0.09\n"
     ]
    }
   ],
   "source": [
    "# for each subject_id in table get the starting_index and the num_samples\n",
    "\n",
    "for subject_id, starting_index, num_samples in zip(\n",
    "    table[\"subject_id\"], table[\"start_index\"], table[\"num_samples\"]\n",
    "):\n",
    "    print(f\"subject_id: {subject_id}\")\n",
    "    print(f\"starting_index: {starting_index}\")\n",
    "    print(f\"num_samples: {num_samples}\")\n",
    "\n",
    "    # get the labels for this subject\n",
    "    subject_labels = y[starting_index : starting_index + num_samples]\n",
    "    print(subject_labels[:10])\n",
    "    print(subject_labels.shape)\n",
    "    # crop the first 30 minutes of the signal and the last 30 minutes considering that each sample is 30 seconds\n",
    "    subject_labels = subject_labels[60 * 2 :]\n",
    "    print(subject_labels.shape)\n",
    "    # print the label distribution for this subject\n",
    "    for label in np.unique(subject_labels):\n",
    "        print(\n",
    "            f\"label {label}: {np.sum(subject_labels == label)/len(subject_labels):.2f}\"\n",
    "        )\n",
    "    break\n",
    "    print()"
   ]
  },
  {
   "cell_type": "code",
   "execution_count": null,
   "metadata": {},
   "outputs": [],
   "source": []
  }
 ],
 "metadata": {
  "kernelspec": {
   "display_name": "physioex",
   "language": "python",
   "name": "python3"
  },
  "language_info": {
   "codemirror_mode": {
    "name": "ipython",
    "version": 3
   },
   "file_extension": ".py",
   "mimetype": "text/x-python",
   "name": "python",
   "nbconvert_exporter": "python",
   "pygments_lexer": "ipython3",
   "version": "3.10.0"
  }
 },
 "nbformat": 4,
 "nbformat_minor": 2
}
