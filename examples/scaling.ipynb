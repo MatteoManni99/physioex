{
 "cells": [
  {
   "cell_type": "code",
   "execution_count": 12,
   "metadata": {},
   "outputs": [
    {
     "name": "stdout",
     "output_type": "stream",
     "text": [
      "Attribuzioni: torch.Size([32, 10, 32])\n"
     ]
    }
   ],
   "source": [
    "import torch\n",
    "from torch import nn\n",
    "from captum.attr import IntegratedGradients\n",
    "\n",
    "\n",
    "# Definizione di un semplice modello multi-output\n",
    "class MultiOutputModel(nn.Module):\n",
    "    def __init__(self):\n",
    "        super(MultiOutputModel, self).__init__()\n",
    "        self.fc1 = nn.Linear(32, 10)\n",
    "        self.fc2 = nn.Linear(10, 5)  # Due output\n",
    "\n",
    "    def forward(self, x):\n",
    "        x = torch.relu(self.fc1(x))\n",
    "        return self.fc2(x)\n",
    "\n",
    "\n",
    "# Istanza del modello\n",
    "model = MultiOutputModel()\n",
    "model.eval()\n",
    "\n",
    "# Istanza degli Integrated Gradients\n",
    "ig = IntegratedGradients(model)\n",
    "\n",
    "# Dati di input di esempio (batch_size, L, input_shape)\n",
    "batch_size = 32\n",
    "L = 10\n",
    "input_shape = 32\n",
    "\n",
    "input_tensor = torch.randn(batch_size, L, input_shape, requires_grad=True)\n",
    "\n",
    "# Creazione di un target che specifica la classe per cui calcolare l'attribuzione\n",
    "# Ora target ha una dimensione aggiuntiva per corrispondere all'output del modello\n",
    "target = (5, 0)  # Aggiunta dimensione per l'output\n",
    "\n",
    "attributions = ig.attribute(input_tensor, target=target)\n",
    "\n",
    "print(\"Attribuzioni:\", attributions.shape)"
   ]
  },
  {
   "cell_type": "code",
   "execution_count": null,
   "metadata": {},
   "outputs": [],
   "source": []
  }
 ],
 "metadata": {
  "kernelspec": {
   "display_name": "physioex",
   "language": "python",
   "name": "python3"
  },
  "language_info": {
   "codemirror_mode": {
    "name": "ipython",
    "version": 3
   },
   "file_extension": ".py",
   "mimetype": "text/x-python",
   "name": "python",
   "nbconvert_exporter": "python",
   "pygments_lexer": "ipython3",
   "version": "3.10.0"
  }
 },
 "nbformat": 4,
 "nbformat_minor": 2
}
