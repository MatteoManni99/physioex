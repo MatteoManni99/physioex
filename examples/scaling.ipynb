{
 "cells": [
  {
   "cell_type": "code",
   "execution_count": 3,
   "metadata": {},
   "outputs": [
    {
     "name": "stdout",
     "output_type": "stream",
     "text": [
      "Current working directory: /home/guido/github/physioex-private\n"
     ]
    }
   ],
   "source": [
    "from utils import set_root \n",
    "\n",
    "set_root()"
   ]
  },
  {
   "cell_type": "code",
   "execution_count": 4,
   "metadata": {},
   "outputs": [],
   "source": [
    "from physioex.data import PhysioExDataset\n",
    "import os\n",
    "import numpy as np"
   ]
  },
  {
   "cell_type": "code",
   "execution_count": 14,
   "metadata": {},
   "outputs": [
    {
     "name": "stderr",
     "output_type": "stream",
     "text": [
      "\u001b[32m2024-08-25 11:25:19.596\u001b[0m | \u001b[1mINFO    \u001b[0m | \u001b[36mphysioex.utils.data_folder\u001b[0m:\u001b[36mset_data_folder\u001b[0m:\u001b[36m25\u001b[0m - \u001b[1mData folder set to /mnt/guido-data/\u001b[0m\n"
     ]
    },
    {
     "ename": "IndexError",
     "evalue": "index 1 is out of bounds for axis 0 with size 1",
     "output_type": "error",
     "traceback": [
      "\u001b[0;31m---------------------------------------------------------------------------\u001b[0m",
      "\u001b[0;31mIndexError\u001b[0m                                Traceback (most recent call last)",
      "Cell \u001b[0;32mIn[14], line 5\u001b[0m\n\u001b[1;32m      3\u001b[0m data_folder \u001b[38;5;241m=\u001b[39m \u001b[38;5;124m\"\u001b[39m\u001b[38;5;124m/mnt/guido-data/\u001b[39m\u001b[38;5;124m\"\u001b[39m\n\u001b[1;32m      4\u001b[0m selected_channels \u001b[38;5;241m=\u001b[39m [\u001b[38;5;124m\"\u001b[39m\u001b[38;5;124mEEG\u001b[39m\u001b[38;5;124m\"\u001b[39m, \u001b[38;5;124m\"\u001b[39m\u001b[38;5;124mEOG\u001b[39m\u001b[38;5;124m\"\u001b[39m, \u001b[38;5;124m\"\u001b[39m\u001b[38;5;124mEMG\u001b[39m\u001b[38;5;124m\"\u001b[39m]\n\u001b[0;32m----> 5\u001b[0m dataset \u001b[38;5;241m=\u001b[39m \u001b[43mPhysioExDataset\u001b[49m\u001b[43m(\u001b[49m\n\u001b[1;32m      6\u001b[0m \u001b[43m    \u001b[49m\u001b[43mdatasets\u001b[49m\u001b[43m \u001b[49m\u001b[38;5;241;43m=\u001b[39;49m\u001b[43m \u001b[49m\u001b[43m[\u001b[49m\u001b[43m \u001b[49m\u001b[43mdataset_name\u001b[49m\u001b[43m \u001b[49m\u001b[43m]\u001b[49m\u001b[43m,\u001b[49m\n\u001b[1;32m      7\u001b[0m \u001b[43m    \u001b[49m\u001b[43mdata_folder\u001b[49m\u001b[38;5;241;43m=\u001b[39;49m\u001b[43m \u001b[49m\u001b[43mdata_folder\u001b[49m\u001b[43m,\u001b[49m\n\u001b[1;32m      8\u001b[0m \u001b[43m    \u001b[49m\u001b[43mpreprocessing\u001b[49m\u001b[43m \u001b[49m\u001b[38;5;241;43m=\u001b[39;49m\u001b[43m \u001b[49m\u001b[43mprep\u001b[49m\u001b[43m,\u001b[49m\n\u001b[1;32m      9\u001b[0m \u001b[43m    \u001b[49m\u001b[43msequence_length\u001b[49m\u001b[38;5;241;43m=\u001b[39;49m\u001b[38;5;241;43m1\u001b[39;49m\u001b[43m,\u001b[49m\n\u001b[1;32m     10\u001b[0m \u001b[43m    \u001b[49m\u001b[43mselected_channels\u001b[49m\u001b[38;5;241;43m=\u001b[39;49m\u001b[43m \u001b[49m\u001b[43mselected_channels\u001b[49m\n\u001b[1;32m     11\u001b[0m \u001b[43m)\u001b[49m\n\u001b[1;32m     13\u001b[0m X \u001b[38;5;241m=\u001b[39m []\n\u001b[1;32m     15\u001b[0m \u001b[38;5;28;01mfor\u001b[39;00m i \u001b[38;5;129;01min\u001b[39;00m \u001b[38;5;28mrange\u001b[39m(\u001b[38;5;28mlen\u001b[39m(dataset)):\n",
      "File \u001b[0;32m~/github/physioex-private/physioex/data/dataset.py:83\u001b[0m, in \u001b[0;36mPhysioExDataset.__init__\u001b[0;34m(self, datasets, versions, preprocessing, selected_channels, sequence_length, target_transform, data_folder)\u001b[0m\n\u001b[1;32m     78\u001b[0m scaling = np.load(\n\u001b[1;32m     79\u001b[0m     os.path.join(self.dataset_folders[-1], preprocessing,  \"scaling.npz\")\n\u001b[1;32m     80\u001b[0m )\n\u001b[1;32m     81\u001b[0m mean, std = scaling[\"mean\"], scaling[\"std\"]\n\u001b[0;32m---> 83\u001b[0m # take the selected channels \n\u001b[1;32m     84\u001b[0m mean = mean[[DATASETS[dataset].index(channel) for channel in selected_channels]]\n\u001b[1;32m     85\u001b[0m std = std[[DATASETS[dataset].index(channel) for channel in selected_channels]]\n",
      "\u001b[0;31mIndexError\u001b[0m: index 1 is out of bounds for axis 0 with size 1"
     ]
    },
    {
     "ename": "",
     "evalue": "",
     "output_type": "error",
     "traceback": [
      "\u001b[1;31mSi è verificato un arresto anomalo del Kernel durante l'esecuzione del codice nella cella attiva o in una cella precedente. \n",
      "\u001b[1;31mEsaminare il codice nelle celle per identificare una possibile causa dell'errore. \n",
      "\u001b[1;31mPer altre informazioni, fare clic<a href='https://aka.ms/vscodeJupyterKernelCrash'>qui</a>. \n",
      "\u001b[1;31mPer ulteriori dettagli, visualizzare Jupyter <a href='command:jupyter.viewOutput'>log</a>."
     ]
    }
   ],
   "source": [
    "\n",
    "dataset_name = \"mass\"\n",
    "prep = \"raw\"\n",
    "data_folder = \"/mnt/guido-data/\"\n",
    "selected_channels = [\"EEG\", \"EOG\", \"EMG\"]\n",
    "dataset = PhysioExDataset(\n",
    "    datasets = [ dataset_name ],\n",
    "    data_folder= data_folder,\n",
    "    preprocessing = prep,\n",
    "    sequence_length=1,\n",
    "    selected_channels= selected_channels\n",
    ")\n",
    "\n",
    "X = []\n",
    "\n",
    "for i in range(len(dataset)):\n",
    "    x, _ = dataset.__getitem__(i, scale=False)\n",
    "    X.append( x.numpy() )\n",
    "\n",
    "X = np.array(X)\n",
    "X = X.reshape(-1, len(selected_channels), 3000 )\n",
    "\n",
    "mean = np.mean(X, axis=0)\n",
    "std = np.std(X, axis=0)\n",
    "\n",
    "saved_mean, saved_std = dataset.scaling[0]\n",
    "\n",
    "#print( \"Mean difference: \", np.abs(mean - saved_mean.numpy()).mean() )\n",
    "#print( \"Std difference: \", np.abs(std - saved_std.numpy()).mean() )\n",
    "\n",
    "#mean = np.reshape(mean, (1, -1))\n",
    "#std = np.reshape(std, (1, -1))\n",
    "\n",
    "scaling_path = f\"{data_folder}{dataset_name}/{prep}/scaling.npz\"\n",
    "np.savez(scaling_path, mean=mean, std=std)"
   ]
  },
  {
   "cell_type": "code",
   "execution_count": 13,
   "metadata": {},
   "outputs": [
    {
     "name": "stderr",
     "output_type": "stream",
     "text": [
      "\u001b[32m2024-08-25 11:11:56.529\u001b[0m | \u001b[1mINFO    \u001b[0m | \u001b[36mphysioex.utils.data_folder\u001b[0m:\u001b[36mset_data_folder\u001b[0m:\u001b[36m25\u001b[0m - \u001b[1mData folder set to /mnt/guido-data/\u001b[0m\n"
     ]
    },
    {
     "name": "stdout",
     "output_type": "stream",
     "text": [
      "Mean : 4.844009e-10\n",
      "Std : 1.0000068\n",
      "Mean difference:  0.0\n",
      "Std difference:  0.0\n"
     ]
    }
   ],
   "source": [
    "# check if the data is now scaled\n",
    "dataset = None\n",
    "dataset = PhysioExDataset(\n",
    "    datasets = [ dataset_name ],\n",
    "    data_folder= data_folder,\n",
    "    preprocessing = prep,\n",
    "    sequence_length=1\n",
    ")\n",
    "\n",
    "X = []\n",
    "\n",
    "for i in range(len(dataset)):\n",
    "    x, _ = dataset.__getitem__(i)\n",
    "    X.append( x.numpy() )\n",
    "\n",
    "X = np.array(X)\n",
    "X = X.reshape(-1, X.shape[-1])\n",
    "\n",
    "print( \"Mean :\", np.mean(X, axis=0).mean() )\n",
    "print( \"Std :\", np.std(X, axis=0).mean() )\n",
    "\n",
    "saved_mean, saved_std = dataset.scaling[0]\n",
    "\n",
    "print( \"Mean difference: \", np.abs(mean - saved_mean.numpy()).mean() )\n",
    "print( \"Std difference: \", np.abs(std - saved_std.numpy()).mean() )"
   ]
  },
  {
   "cell_type": "code",
   "execution_count": 7,
   "metadata": {},
   "outputs": [
    {
     "name": "stdout",
     "output_type": "stream",
     "text": [
      "/mnt/guido-data/hmc/raw/scaling.npz\n"
     ]
    }
   ],
   "source": [
    "print(scaling_path)\n"
   ]
  },
  {
   "cell_type": "code",
   "execution_count": 9,
   "metadata": {},
   "outputs": [
    {
     "name": "stdout",
     "output_type": "stream",
     "text": [
      "(tensor([-0.0093]), tensor([32.6995]))\n"
     ]
    }
   ],
   "source": [
    "print( dataset.scaling[0] )"
   ]
  },
  {
   "cell_type": "code",
   "execution_count": null,
   "metadata": {},
   "outputs": [],
   "source": []
  }
 ],
 "metadata": {
  "kernelspec": {
   "display_name": "physioex",
   "language": "python",
   "name": "python3"
  },
  "language_info": {
   "codemirror_mode": {
    "name": "ipython",
    "version": 3
   },
   "file_extension": ".py",
   "mimetype": "text/x-python",
   "name": "python",
   "nbconvert_exporter": "python",
   "pygments_lexer": "ipython3",
   "version": "3.12.0"
  }
 },
 "nbformat": 4,
 "nbformat_minor": 2
}
