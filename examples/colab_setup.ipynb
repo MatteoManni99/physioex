{
 "cells": [
  {
   "cell_type": "markdown",
   "metadata": {
    "colab_type": "text",
    "id": "view-in-github"
   },
   "source": [
    "<a href=\"https://colab.research.google.com/github/guidogagl/physioex/blob/main/examples/colab_setup.ipynb\" target=\"_parent\"><img src=\"https://colab.research.google.com/assets/colab-badge.svg\" alt=\"Open In Colab\"/></a>"
   ]
  },
  {
   "cell_type": "code",
   "execution_count": 1,
   "metadata": {
    "colab": {
     "base_uri": "https://localhost:8080/"
    },
    "id": "TJehO5FpB8Lw",
    "outputId": "b0940395-9d4f-4646-87dc-6726b9235cfd"
   },
   "outputs": [
    {
     "name": "stdout",
     "output_type": "stream",
     "text": [
      "Mounted at /content/drive\n"
     ]
    }
   ],
   "source": [
    "# mount your personal gdrive folder inside google colab server\n",
    "from google.colab import drive\n",
    "\n",
    "drive.mount(\"/content/drive\")"
   ]
  },
  {
   "cell_type": "code",
   "execution_count": null,
   "metadata": {
    "colab": {
     "base_uri": "https://localhost:8080/"
    },
    "id": "jZKvO9KdCug5",
    "outputId": "49fe9f93-2b79-464f-ef0d-72896d4155df"
   },
   "outputs": [
    {
     "name": "stdout",
     "output_type": "stream",
     "text": [
      "fatal: destination path 'physioex' already exists and is not an empty directory.\n",
      "/content/drive/MyDrive/Thesis/physioex\n"
     ]
    }
   ],
   "source": [
    "# follow the guide on https://guidogagl.github.io/physioex/\n",
    "# clone your forked repo\n",
    "!git clone https://github.com/guidogagl/physioex.git\n",
    "%cd physioex\n",
    "\n",
    "!git pull origin main"
   ]
  },
  {
   "cell_type": "code",
   "execution_count": null,
   "metadata": {
    "id": "pGa_PZZMDjIN"
   },
   "outputs": [],
   "source": [
    "# install the library in development mode\n",
    "!pip install -e ."
   ]
  },
  {
   "cell_type": "code",
   "execution_count": null,
   "metadata": {
    "id": "bdDv0QZWDnS2"
   },
   "outputs": [],
   "source": [
    "# train the model proposed by chambon2018 on the DREEM dataset ( DODH version )\n",
    "!train -e chambon2018 --dataset dreem --version dodh -vci 30 --sequence_lenght 3 -nj 2 --checkpoint \"models/cel/chambon2018/seqlen=3/dreem/dodh/\""
   ]
  }
 ],
 "metadata": {
  "accelerator": "GPU",
  "colab": {
   "authorship_tag": "ABX9TyNB8kptHbY8lNXyhBh/0TWM",
   "gpuType": "T4",
   "include_colab_link": true,
   "provenance": []
  },
  "kernelspec": {
   "display_name": "Python 3",
   "name": "python3"
  },
  "language_info": {
   "codemirror_mode": {
    "name": "ipython",
    "version": 3
   },
   "file_extension": ".py",
   "mimetype": "text/x-python",
   "name": "python",
   "nbconvert_exporter": "python",
   "pygments_lexer": "ipython3",
   "version": "3.10.13"
  }
 },
 "nbformat": 4,
 "nbformat_minor": 0
}
